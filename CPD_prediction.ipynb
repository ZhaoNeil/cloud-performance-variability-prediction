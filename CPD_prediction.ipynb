{
 "cells": [
  {
   "cell_type": "code",
   "execution_count": 1,
   "metadata": {},
   "outputs": [],
   "source": [
    "import os\n",
    "import pandas as pd\n",
    "import numpy as np\n",
    "import time\n",
    "import datetime\n",
    "from sklearn.preprocessing import LabelEncoder\n",
    "from sklearn.model_selection import train_test_split\n",
    "from sklearn.metrics import mean_squared_error"
   ]
  },
  {
   "cell_type": "markdown",
   "metadata": {},
   "source": [
    "### Load data ###"
   ]
  },
  {
   "cell_type": "code",
   "execution_count": 2,
   "metadata": {
    "scrolled": true
   },
   "outputs": [
    {
     "name": "stdout",
     "output_type": "stream",
     "text": [
      "Loading: ./CPU_results/indiv-0.70\n",
      "283\n",
      "Loading: ./CPU_results/aggr-1.00\n",
      "4034\n",
      "Loading: ./CPU_results/indiv-0.40\n",
      "147\n",
      "Loading: ./CPU_results/aggr-0.30\n",
      "354\n",
      "Loading: ./CPU_results/aggr-0.90\n",
      "3951\n",
      "Loading: ./CPU_results/aggr-0.70\n",
      "3068\n",
      "Loading: ./CPU_results/indiv-1.00\n",
      "410\n",
      "Loading: ./CPU_results/aggr-0.40\n",
      "930\n",
      "Loading: ./CPU_results/meta\n",
      "11\n",
      "Loading: ./CPU_results/indiv-0.30\n",
      "49\n",
      "Loading: ./CPU_results/indiv-0.90\n",
      "363\n",
      "Loading: ./CPU_results/indiv-0.80\n",
      "325\n",
      "Loading: ./CPU_results/aggr-0.50\n",
      "1944\n",
      "Loading: ./CPU_results/segment-durations\n",
      "6725\n",
      "Loading: ./CPU_results/aggr-0.60\n",
      "2459\n",
      "Loading: ./CPU_results/aggr-0.80\n",
      "3565\n",
      "Loading: ./CPU_results/indiv-0.50\n",
      "193\n",
      "Loading: ./CPU_results/indiv-0.60\n",
      "235\n",
      "Loading: ./Memory_results/indiv-0.70\n",
      "1406\n",
      "Loading: ./Memory_results/aggr-1.00\n",
      "6241\n",
      "Loading: ./Memory_results/indiv-0.40\n",
      "925\n",
      "Loading: ./Memory_results/aggr-0.30\n",
      "2656\n",
      "Loading: ./Memory_results/aggr-0.90\n",
      "6002\n",
      "Loading: ./Memory_results/aggr-0.70\n",
      "5420\n",
      "Loading: ./Memory_results/indiv-1.00\n",
      "1784\n",
      "Loading: ./Memory_results/aggr-0.40\n",
      "3035\n",
      "Loading: ./Memory_results/meta\n",
      "11\n",
      "Loading: ./Memory_results/indiv-0.30\n",
      "492\n",
      "Loading: ./Memory_results/indiv-0.90\n",
      "1630\n",
      "Loading: ./Memory_results/indiv-0.80\n",
      "1529\n",
      "Loading: ./Memory_results/aggr-0.50\n",
      "3900\n",
      "Loading: ./Memory_results/segment-durations\n",
      "18446\n",
      "Loading: ./Memory_results/aggr-0.60\n",
      "4713\n",
      "Loading: ./Memory_results/aggr-0.80\n",
      "5694\n",
      "Loading: ./Memory_results/indiv-0.50\n",
      "1113\n",
      "Loading: ./Memory_results/indiv-0.60\n",
      "1263\n",
      "Loading: ./Disk_results/indiv-0.70\n",
      "160\n",
      "Loading: ./Disk_results/aggr-1.00\n",
      "5701\n",
      "Loading: ./Disk_results/indiv-0.40\n",
      "76\n",
      "Loading: ./Disk_results/aggr-0.30\n",
      "872\n",
      "Loading: ./Disk_results/aggr-0.90\n",
      "5661\n",
      "Loading: ./Disk_results/aggr-0.70\n",
      "4325\n",
      "Loading: ./Disk_results/indiv-1.00\n",
      "245\n",
      "Loading: ./Disk_results/aggr-0.40\n",
      "2458\n",
      "Loading: ./Disk_results/meta\n",
      "11\n",
      "Loading: ./Disk_results/indiv-0.30\n",
      "42\n",
      "Loading: ./Disk_results/indiv-0.90\n",
      "215\n",
      "Loading: ./Disk_results/indiv-0.80\n",
      "191\n",
      "Loading: ./Disk_results/aggr-0.50\n",
      "3312\n",
      "Loading: ./Disk_results/segment-durations\n",
      "2387\n",
      "Loading: ./Disk_results/aggr-0.60\n",
      "3603\n",
      "Loading: ./Disk_results/aggr-0.80\n",
      "5402\n",
      "Loading: ./Disk_results/indiv-0.50\n",
      "108\n",
      "Loading: ./Disk_results/indiv-0.60\n",
      "134\n"
     ]
    }
   ],
   "source": [
    "cpd = {}\n",
    "\n",
    "for dataset in [\"CPU\", \"Memory\", \"Disk\"]:\n",
    "\n",
    "    results_dir = \"./%s_results\" % dataset\n",
    "    if dataset not in cpd.keys():\n",
    "        cpd[dataset] = {} \n",
    "\n",
    "    for f in os.listdir(\"%s\" % results_dir):\n",
    "        # Exclude hidden files (most likely thumbnails)\n",
    "        if f[:2] != \"._\":\n",
    "            print(\"Loading: %s/%s\" % (results_dir, f))\n",
    "            df = pd.read_csv(\"%s/%s\" % (results_dir, f))\n",
    "            print(len(df))\n",
    "\n",
    "            if \"aggr\" in f:\n",
    "                # Extract CPD threshold from the filename \n",
    "                lthreshold = float(f.split(\"-\")[1])\n",
    "\n",
    "                df[\"lthreshold\"] = lthreshold\n",
    "                if \"aggr\" not in cpd[dataset].keys():\n",
    "                    cpd[dataset][\"aggr\"] = pd.DataFrame()\n",
    "                cpd[dataset][\"aggr\"] = pd.concat([cpd[dataset][\"aggr\"], df], sort=False)\n",
    "\n",
    "            if \"indiv\" in f:\n",
    "                if \"indiv\" not in cpd[dataset].keys():\n",
    "                    cpd[dataset][\"indiv\"] = pd.DataFrame()\n",
    "                cpd[dataset][\"indiv\"] = pd.concat([cpd[dataset][\"indiv\"], df], sort=False)\n",
    "\n",
    "            if \"meta\" in f:\n",
    "                cpd[dataset][\"meta\"] = df\n",
    "\n",
    "            if \"segment-durations\" in f:\n",
    "                cpd[dataset][\"segment-durations\"] = df"
   ]
  },
  {
   "cell_type": "code",
   "execution_count": 3,
   "metadata": {
    "scrolled": true
   },
   "outputs": [
    {
     "data": {
      "text/html": [
       "<div>\n",
       "<style scoped>\n",
       "    .dataframe tbody tr th:only-of-type {\n",
       "        vertical-align: middle;\n",
       "    }\n",
       "\n",
       "    .dataframe tbody tr th {\n",
       "        vertical-align: top;\n",
       "    }\n",
       "\n",
       "    .dataframe thead th {\n",
       "        text-align: right;\n",
       "    }\n",
       "</style>\n",
       "<table border=\"1\" class=\"dataframe\">\n",
       "  <thead>\n",
       "    <tr style=\"text-align: right;\">\n",
       "      <th></th>\n",
       "      <th>CPU: CP #</th>\n",
       "      <th>Mem: CP #</th>\n",
       "      <th>Disk: CP #</th>\n",
       "      <th>Total #</th>\n",
       "    </tr>\n",
       "  </thead>\n",
       "  <tbody>\n",
       "    <tr>\n",
       "      <th>0.3</th>\n",
       "      <td>49</td>\n",
       "      <td>492</td>\n",
       "      <td>42</td>\n",
       "      <td>583.0</td>\n",
       "    </tr>\n",
       "    <tr>\n",
       "      <th>0.4</th>\n",
       "      <td>147</td>\n",
       "      <td>925</td>\n",
       "      <td>76</td>\n",
       "      <td>1148.0</td>\n",
       "    </tr>\n",
       "    <tr>\n",
       "      <th>0.5</th>\n",
       "      <td>193</td>\n",
       "      <td>1113</td>\n",
       "      <td>108</td>\n",
       "      <td>1414.0</td>\n",
       "    </tr>\n",
       "    <tr>\n",
       "      <th>0.6</th>\n",
       "      <td>235</td>\n",
       "      <td>1263</td>\n",
       "      <td>134</td>\n",
       "      <td>1632.0</td>\n",
       "    </tr>\n",
       "    <tr>\n",
       "      <th>0.7</th>\n",
       "      <td>283</td>\n",
       "      <td>1406</td>\n",
       "      <td>160</td>\n",
       "      <td>1849.0</td>\n",
       "    </tr>\n",
       "    <tr>\n",
       "      <th>0.8</th>\n",
       "      <td>325</td>\n",
       "      <td>1529</td>\n",
       "      <td>191</td>\n",
       "      <td>2045.0</td>\n",
       "    </tr>\n",
       "    <tr>\n",
       "      <th>0.9</th>\n",
       "      <td>363</td>\n",
       "      <td>1630</td>\n",
       "      <td>215</td>\n",
       "      <td>2208.0</td>\n",
       "    </tr>\n",
       "    <tr>\n",
       "      <th>1.0</th>\n",
       "      <td>410</td>\n",
       "      <td>1784</td>\n",
       "      <td>245</td>\n",
       "      <td>2439.0</td>\n",
       "    </tr>\n",
       "    <tr>\n",
       "      <th>Total</th>\n",
       "      <td>2005</td>\n",
       "      <td>10142</td>\n",
       "      <td>1171</td>\n",
       "      <td>13318.0</td>\n",
       "    </tr>\n",
       "  </tbody>\n",
       "</table>\n",
       "</div>"
      ],
      "text/plain": [
       "      CPU: CP # Mem: CP # Disk: CP #  Total #\n",
       "0.3          49       492         42    583.0\n",
       "0.4         147       925         76   1148.0\n",
       "0.5         193      1113        108   1414.0\n",
       "0.6         235      1263        134   1632.0\n",
       "0.7         283      1406        160   1849.0\n",
       "0.8         325      1529        191   2045.0\n",
       "0.9         363      1630        215   2208.0\n",
       "1.0         410      1784        245   2439.0\n",
       "Total      2005     10142       1171  13318.0"
      ]
     },
     "metadata": {},
     "output_type": "display_data"
    }
   ],
   "source": [
    "count_df = pd.DataFrame(columns=[\"CPU: CP #\", \"Mem: CP #\", \"Disk: CP #\"])\n",
    "for lthreshold in cpd[\"CPU\"][\"indiv\"][\"lthreshold\"].sort_values().unique():\n",
    "    cpu_cpd_c = len(cpd[\"CPU\"][\"indiv\"][(cpd[\"CPU\"][\"indiv\"][\"lthreshold\"] == lthreshold)])\n",
    "    \n",
    "    mem_cpd_c = len(cpd[\"Memory\"][\"indiv\"][(cpd[\"Memory\"][\"indiv\"][\"lthreshold\"] == lthreshold)])\n",
    "    \n",
    "    disk_cpd_c = len(cpd[\"Disk\"][\"indiv\"][(cpd[\"Disk\"][\"indiv\"][\"lthreshold\"] == lthreshold)])\n",
    "    \n",
    "    count_df.loc[lthreshold] = (cpu_cpd_c, mem_cpd_c, disk_cpd_c)\n",
    "    \n",
    "count_df[\"Total #\"] = count_df.sum(1)\n",
    "count_df.loc['Total',:] = count_df.sum(0)\n",
    "display(count_df)"
   ]
  },
  {
   "cell_type": "code",
   "execution_count": 4,
   "metadata": {
    "scrolled": true
   },
   "outputs": [
    {
     "data": {
      "text/plain": [
       "Index(['hw_type', 'lthreshold', 'testname', 'dvfs', 'socket_num', 'timestamp',\n",
       "       'percent_change'],\n",
       "      dtype='object')"
      ]
     },
     "execution_count": 4,
     "metadata": {},
     "output_type": "execute_result"
    }
   ],
   "source": [
    "memory = cpd['Memory']['indiv']\n",
    "memory.columns"
   ]
  },
  {
   "cell_type": "code",
   "execution_count": 5,
   "metadata": {},
   "outputs": [
    {
     "data": {
      "text/plain": [
       "Index(['hw_type', 'lthreshold', 'testname', 'total_threads', 'dvfs',\n",
       "       'socket_num', 'timestamp', 'percent_change'],\n",
       "      dtype='object')"
      ]
     },
     "execution_count": 5,
     "metadata": {},
     "output_type": "execute_result"
    }
   ],
   "source": [
    "cpu = cpd['CPU']['indiv']\n",
    "cpu.columns"
   ]
  },
  {
   "cell_type": "code",
   "execution_count": 6,
   "metadata": {
    "scrolled": true
   },
   "outputs": [
    {
     "data": {
      "text/plain": [
       "Index(['hw_type', 'lthreshold', 'testname', 'device', 'iodepth', 'timestamp',\n",
       "       'percent_change'],\n",
       "      dtype='object')"
      ]
     },
     "execution_count": 6,
     "metadata": {},
     "output_type": "execute_result"
    }
   ],
   "source": [
    "disk = cpd['Disk']['indiv']\n",
    "disk.columns"
   ]
  },
  {
   "cell_type": "markdown",
   "metadata": {},
   "source": [
    "### XgBoost_memory ###"
   ]
  },
  {
   "cell_type": "code",
   "execution_count": 7,
   "metadata": {},
   "outputs": [
    {
     "name": "stderr",
     "output_type": "stream",
     "text": [
      "/Users/zhaoyuxuan/anaconda3/lib/python3.7/site-packages/dask/config.py:161: YAMLLoadWarning: calling yaml.load() without Loader=... is deprecated, as the default Loader is unsafe. Please read https://msg.pyyaml.org/load for full details.\n",
      "  data = yaml.load(f.read()) or {}\n",
      "/Users/zhaoyuxuan/anaconda3/lib/python3.7/site-packages/distributed/config.py:20: YAMLLoadWarning: calling yaml.load() without Loader=... is deprecated, as the default Loader is unsafe. Please read https://msg.pyyaml.org/load for full details.\n",
      "  defaults = yaml.load(f)\n"
     ]
    }
   ],
   "source": [
    "import xgboost as xgb"
   ]
  },
  {
   "cell_type": "code",
   "execution_count": 37,
   "metadata": {
    "scrolled": true
   },
   "outputs": [
    {
     "name": "stderr",
     "output_type": "stream",
     "text": [
      "/Users/zhaoyuxuan/anaconda3/lib/python3.7/site-packages/pandas/core/frame.py:3509: SettingWithCopyWarning: \n",
      "A value is trying to be set on a copy of a slice from a DataFrame.\n",
      "Try using .loc[row_indexer,col_indexer] = value instead\n",
      "\n",
      "See the caveats in the documentation: http://pandas.pydata.org/pandas-docs/stable/user_guide/indexing.html#returning-a-view-versus-a-copy\n",
      "  self[k1] = value[k2]\n"
     ]
    }
   ],
   "source": [
    "X = memory[['hw_type','lthreshold','testname','dvfs','socket_num','percent_change']]\n",
    "y = memory[['timestamp']]\n",
    "\n",
    "categorical_cols = X.columns[X.dtypes==object].tolist()\n",
    "\n",
    "le = LabelEncoder()\n",
    "\n",
    "X[categorical_cols] = X[categorical_cols].apply(lambda col: le.fit_transform(col))"
   ]
  },
  {
   "cell_type": "code",
   "execution_count": 40,
   "metadata": {},
   "outputs": [
    {
     "name": "stdout",
     "output_type": "stream",
     "text": [
      "[11:35:36] WARNING: /Users/travis/build/dmlc/xgboost/src/objective/regression_obj.cu:174: reg:linear is now deprecated in favor of reg:squarederror.\n",
      "[11:35:38] WARNING: /Users/travis/build/dmlc/xgboost/src/objective/regression_obj.cu:174: reg:linear is now deprecated in favor of reg:squarederror.\n"
     ]
    }
   ],
   "source": [
    "X_train, X_test, y_train, y_test = train_test_split(X, y, test_size=0.2, random_state=8)\n",
    "xg_reg = xgb.XGBRegressor(objective ='reg:linear', colsample_bytree = 0.7, learning_rate = 0.1,\n",
    "                max_depth = 5, subsample = 0.9, n_estimators = 1000)\n",
    "xg_reg.fit(X_train,y_train)\n",
    "predict = xg_reg.predict(X_test)"
   ]
  },
  {
   "cell_type": "code",
   "execution_count": 41,
   "metadata": {},
   "outputs": [
    {
     "name": "stdout",
     "output_type": "stream",
     "text": [
      "RMSE(memory): 100.925054 days\n"
     ]
    }
   ],
   "source": [
    "rmse = np.sqrt(mean_squared_error(y_test, predict))\n",
    "print(\"RMSE(memory): %f\" %(rmse/24/3600),\"days\")"
   ]
  },
  {
   "cell_type": "markdown",
   "metadata": {},
   "source": [
    "### XgBoost_cpu ###"
   ]
  },
  {
   "cell_type": "code",
   "execution_count": 11,
   "metadata": {},
   "outputs": [
    {
     "name": "stderr",
     "output_type": "stream",
     "text": [
      "/Users/zhaoyuxuan/anaconda3/lib/python3.7/site-packages/pandas/core/frame.py:3509: SettingWithCopyWarning: \n",
      "A value is trying to be set on a copy of a slice from a DataFrame.\n",
      "Try using .loc[row_indexer,col_indexer] = value instead\n",
      "\n",
      "See the caveats in the documentation: http://pandas.pydata.org/pandas-docs/stable/user_guide/indexing.html#returning-a-view-versus-a-copy\n",
      "  self[k1] = value[k2]\n"
     ]
    }
   ],
   "source": [
    "X = cpu[['hw_type','lthreshold','testname','total_threads','dvfs','socket_num','percent_change']]\n",
    "y = cpu[['timestamp']]\n",
    "\n",
    "categorical_cols = X.columns[X.dtypes==object].tolist()\n",
    "\n",
    "le = LabelEncoder()\n",
    "\n",
    "X[categorical_cols] = X[categorical_cols].apply(lambda col: le.fit_transform(col))"
   ]
  },
  {
   "cell_type": "code",
   "execution_count": 12,
   "metadata": {},
   "outputs": [
    {
     "name": "stdout",
     "output_type": "stream",
     "text": [
      "[11:31:32] WARNING: /Users/travis/build/dmlc/xgboost/src/objective/regression_obj.cu:174: reg:linear is now deprecated in favor of reg:squarederror.\n",
      "[11:31:32] WARNING: /Users/travis/build/dmlc/xgboost/src/objective/regression_obj.cu:174: reg:linear is now deprecated in favor of reg:squarederror.\n"
     ]
    }
   ],
   "source": [
    "X_train, X_test, y_train, y_test = train_test_split(X, y, test_size=0.2, random_state=8)\n",
    "xg_reg = xgb.XGBRegressor(objective ='reg:linear', colsample_bytree = 0.7, learning_rate = 0.1,\n",
    "                max_depth = 5, subsample = 0.9, n_estimators = 1000)\n",
    "xg_reg.fit(X_train,y_train)\n",
    "predict = xg_reg.predict(X_test)"
   ]
  },
  {
   "cell_type": "code",
   "execution_count": 13,
   "metadata": {},
   "outputs": [
    {
     "name": "stdout",
     "output_type": "stream",
     "text": [
      "RMSE(cpu): 59.408048 days\n"
     ]
    }
   ],
   "source": [
    "rmse = np.sqrt(mean_squared_error(y_test, predict))\n",
    "print(\"RMSE(cpu): %f\" %(rmse/24/3600),\"days\")"
   ]
  },
  {
   "cell_type": "markdown",
   "metadata": {},
   "source": [
    "### XgBoost_disk ###"
   ]
  },
  {
   "cell_type": "code",
   "execution_count": 14,
   "metadata": {},
   "outputs": [],
   "source": [
    "X = disk[['hw_type', 'lthreshold', 'testname', 'device', 'iodepth', 'timestamp', 'percent_change']]\n",
    "y = disk[['timestamp']]\n",
    "\n",
    "categorical_cols = X.columns[X.dtypes==object].tolist()\n",
    "\n",
    "le = LabelEncoder()\n",
    "\n",
    "X[categorical_cols] = X[categorical_cols].apply(lambda col: le.fit_transform(col))"
   ]
  },
  {
   "cell_type": "code",
   "execution_count": 15,
   "metadata": {},
   "outputs": [
    {
     "name": "stdout",
     "output_type": "stream",
     "text": [
      "[11:31:36] WARNING: /Users/travis/build/dmlc/xgboost/src/objective/regression_obj.cu:174: reg:linear is now deprecated in favor of reg:squarederror.\n",
      "[11:31:36] WARNING: /Users/travis/build/dmlc/xgboost/src/objective/regression_obj.cu:174: reg:linear is now deprecated in favor of reg:squarederror.\n"
     ]
    }
   ],
   "source": [
    "X_train, X_test, y_train, y_test = train_test_split(X, y, test_size=0.2, random_state=8)\n",
    "xg_reg = xgb.XGBRegressor(objective ='reg:linear', colsample_bytree = 0.7, learning_rate = 0.1,\n",
    "                max_depth = 5, subsample = 0.9, n_estimators = 1000)\n",
    "xg_reg.fit(X_train,y_train)\n",
    "predict = xg_reg.predict(X_test)"
   ]
  },
  {
   "cell_type": "code",
   "execution_count": 16,
   "metadata": {},
   "outputs": [
    {
     "name": "stdout",
     "output_type": "stream",
     "text": [
      "RMSE(disk): 4.283519 days\n"
     ]
    }
   ],
   "source": [
    "rmse = np.sqrt(mean_squared_error(y_test, predict))\n",
    "print(\"RMSE(disk): %f\" %(rmse/24/3600),\"days\")"
   ]
  },
  {
   "cell_type": "markdown",
   "metadata": {},
   "source": [
    "### LightGBM_memory###"
   ]
  },
  {
   "cell_type": "code",
   "execution_count": 17,
   "metadata": {},
   "outputs": [],
   "source": [
    "import lightgbm as lgb"
   ]
  },
  {
   "cell_type": "code",
   "execution_count": 18,
   "metadata": {},
   "outputs": [
    {
     "name": "stderr",
     "output_type": "stream",
     "text": [
      "/Users/zhaoyuxuan/anaconda3/lib/python3.7/site-packages/pandas/core/frame.py:3509: SettingWithCopyWarning: \n",
      "A value is trying to be set on a copy of a slice from a DataFrame.\n",
      "Try using .loc[row_indexer,col_indexer] = value instead\n",
      "\n",
      "See the caveats in the documentation: http://pandas.pydata.org/pandas-docs/stable/user_guide/indexing.html#returning-a-view-versus-a-copy\n",
      "  self[k1] = value[k2]\n"
     ]
    }
   ],
   "source": [
    "X = memory[['hw_type','lthreshold','testname','dvfs','socket_num','percent_change']]\n",
    "y = memory[['timestamp']]\n",
    "\n",
    "categorical_cols = X.columns[X.dtypes==object].tolist()\n",
    "\n",
    "le = LabelEncoder()\n",
    "\n",
    "X[categorical_cols] = X[categorical_cols].apply(lambda col: le.fit_transform(col))"
   ]
  },
  {
   "cell_type": "code",
   "execution_count": 19,
   "metadata": {},
   "outputs": [
    {
     "name": "stdout",
     "output_type": "stream",
     "text": [
      "[LightGBM] [Warning] Accuracy may be bad since you didn't set num_leaves and 2^max_depth > num_leaves\n"
     ]
    }
   ],
   "source": [
    "X_train, X_test, y_train, y_test = train_test_split(X, y, test_size=0.2, random_state=8)\n",
    "lgb_reg = lgb.LGBMRegressor(objective = 'mse', colsample_bytree = 0.7, learning_rate = 0.1,\n",
    "                max_depth = 5, subsample = 0.9, n_estimators = 1000, random_state = 3)\n",
    "lgb_reg.fit(X_train,y_train)\n",
    "predict = lgb_reg.predict(X_test)"
   ]
  },
  {
   "cell_type": "code",
   "execution_count": 20,
   "metadata": {},
   "outputs": [
    {
     "name": "stdout",
     "output_type": "stream",
     "text": [
      "RMSE(memory): 98.493888 days\n"
     ]
    }
   ],
   "source": [
    "rmse = np.sqrt(mean_squared_error(y_test, predict))\n",
    "print(\"RMSE(memory): %f\" %(rmse/24/3600),\"days\")"
   ]
  },
  {
   "cell_type": "markdown",
   "metadata": {},
   "source": [
    "### LightGBM_cpu###"
   ]
  },
  {
   "cell_type": "code",
   "execution_count": 21,
   "metadata": {},
   "outputs": [
    {
     "name": "stderr",
     "output_type": "stream",
     "text": [
      "/Users/zhaoyuxuan/anaconda3/lib/python3.7/site-packages/pandas/core/frame.py:3509: SettingWithCopyWarning: \n",
      "A value is trying to be set on a copy of a slice from a DataFrame.\n",
      "Try using .loc[row_indexer,col_indexer] = value instead\n",
      "\n",
      "See the caveats in the documentation: http://pandas.pydata.org/pandas-docs/stable/user_guide/indexing.html#returning-a-view-versus-a-copy\n",
      "  self[k1] = value[k2]\n"
     ]
    }
   ],
   "source": [
    "X = cpu[['hw_type','lthreshold','testname','total_threads','dvfs','socket_num','percent_change']]\n",
    "y = cpu[['timestamp']]\n",
    "\n",
    "categorical_cols = X.columns[X.dtypes==object].tolist()\n",
    "\n",
    "le = LabelEncoder()\n",
    "\n",
    "X[categorical_cols] = X[categorical_cols].apply(lambda col: le.fit_transform(col))"
   ]
  },
  {
   "cell_type": "code",
   "execution_count": 22,
   "metadata": {},
   "outputs": [
    {
     "name": "stdout",
     "output_type": "stream",
     "text": [
      "[LightGBM] [Warning] Accuracy may be bad since you didn't set num_leaves and 2^max_depth > num_leaves\n"
     ]
    }
   ],
   "source": [
    "X_train, X_test, y_train, y_test = train_test_split(X, y, test_size=0.2, random_state=8)\n",
    "lgb_reg = lgb.LGBMRegressor(objective = 'mse', colsample_bytree = 0.7, learning_rate = 0.1,\n",
    "                max_depth = 5, subsample = 0.9, n_estimators = 1000, random_state = 3)\n",
    "lgb_reg.fit(X_train,y_train)\n",
    "predict = lgb_reg.predict(X_test)"
   ]
  },
  {
   "cell_type": "code",
   "execution_count": 23,
   "metadata": {},
   "outputs": [
    {
     "name": "stdout",
     "output_type": "stream",
     "text": [
      "RMSE(cpu): 53.941582 days\n"
     ]
    }
   ],
   "source": [
    "rmse = np.sqrt(mean_squared_error(y_test, predict))\n",
    "print(\"RMSE(cpu): %f\" %(rmse/24/3600),\"days\")"
   ]
  },
  {
   "cell_type": "markdown",
   "metadata": {},
   "source": [
    "### LightGBM_disk###"
   ]
  },
  {
   "cell_type": "code",
   "execution_count": 24,
   "metadata": {},
   "outputs": [],
   "source": [
    "X = disk[['hw_type', 'lthreshold', 'testname', 'device', 'iodepth', 'timestamp', 'percent_change']]\n",
    "y = disk[['timestamp']]\n",
    "\n",
    "categorical_cols = X.columns[X.dtypes==object].tolist()\n",
    "\n",
    "le = LabelEncoder()\n",
    "\n",
    "X[categorical_cols] = X[categorical_cols].apply(lambda col: le.fit_transform(col))"
   ]
  },
  {
   "cell_type": "code",
   "execution_count": 25,
   "metadata": {},
   "outputs": [
    {
     "name": "stdout",
     "output_type": "stream",
     "text": [
      "[LightGBM] [Warning] Accuracy may be bad since you didn't set num_leaves and 2^max_depth > num_leaves\n"
     ]
    }
   ],
   "source": [
    "X_train, X_test, y_train, y_test = train_test_split(X, y, test_size=0.2, random_state=8)\n",
    "lgb_reg = lgb.LGBMRegressor(objective = 'mse', colsample_bytree = 0.7, learning_rate = 0.1,\n",
    "                max_depth = 5, subsample = 0.9, n_estimators = 1000, random_state = 3)\n",
    "lgb_reg.fit(X_train,y_train)\n",
    "predict = lgb_reg.predict(X_test)"
   ]
  },
  {
   "cell_type": "code",
   "execution_count": 26,
   "metadata": {},
   "outputs": [
    {
     "name": "stdout",
     "output_type": "stream",
     "text": [
      "RMSE(disk): 7.773893 days\n"
     ]
    }
   ],
   "source": [
    "rmse = np.sqrt(mean_squared_error(y_test, predict))\n",
    "print(\"RMSE(disk): %f\" %(rmse/24/3600),\"days\")"
   ]
  },
  {
   "cell_type": "markdown",
   "metadata": {},
   "source": [
    "### CatBoost_memory###"
   ]
  },
  {
   "cell_type": "code",
   "execution_count": 27,
   "metadata": {},
   "outputs": [],
   "source": [
    "import catboost as cb"
   ]
  },
  {
   "cell_type": "code",
   "execution_count": 28,
   "metadata": {},
   "outputs": [
    {
     "name": "stderr",
     "output_type": "stream",
     "text": [
      "/Users/zhaoyuxuan/anaconda3/lib/python3.7/site-packages/pandas/core/frame.py:3509: SettingWithCopyWarning: \n",
      "A value is trying to be set on a copy of a slice from a DataFrame.\n",
      "Try using .loc[row_indexer,col_indexer] = value instead\n",
      "\n",
      "See the caveats in the documentation: http://pandas.pydata.org/pandas-docs/stable/user_guide/indexing.html#returning-a-view-versus-a-copy\n",
      "  self[k1] = value[k2]\n"
     ]
    }
   ],
   "source": [
    "X = memory[['hw_type','lthreshold','testname','dvfs','socket_num','percent_change']]\n",
    "y = memory[['timestamp']]\n",
    "\n",
    "categorical_cols = X.columns[X.dtypes==object].tolist()\n",
    "\n",
    "le = LabelEncoder()\n",
    "\n",
    "X[categorical_cols] = X[categorical_cols].apply(lambda col: le.fit_transform(col))"
   ]
  },
  {
   "cell_type": "code",
   "execution_count": 29,
   "metadata": {},
   "outputs": [
    {
     "name": "stdout",
     "output_type": "stream",
     "text": [
      "0:\tlearn: 18654443.5418442\ttotal: 77.8ms\tremaining: 1m 17s\n",
      "100:\tlearn: 12528923.6391739\ttotal: 285ms\tremaining: 2.54s\n",
      "200:\tlearn: 11229380.0765889\ttotal: 442ms\tremaining: 1.76s\n",
      "300:\tlearn: 10396024.6114900\ttotal: 619ms\tremaining: 1.44s\n",
      "400:\tlearn: 9812969.8800908\ttotal: 772ms\tremaining: 1.15s\n",
      "500:\tlearn: 9306167.0987501\ttotal: 933ms\tremaining: 929ms\n",
      "600:\tlearn: 8867258.9772308\ttotal: 1.09s\tremaining: 721ms\n",
      "700:\tlearn: 8512805.0717410\ttotal: 1.25s\tremaining: 532ms\n",
      "800:\tlearn: 8233149.6106941\ttotal: 1.4s\tremaining: 347ms\n",
      "900:\tlearn: 7948256.7242913\ttotal: 1.56s\tremaining: 171ms\n",
      "999:\tlearn: 7686873.3878281\ttotal: 1.71s\tremaining: 0us\n"
     ]
    }
   ],
   "source": [
    "X_train, X_test, y_train, y_test = train_test_split(X, y, test_size=0.2, random_state=8)\n",
    "cb_reg = cb.CatBoostRegressor(learning_rate = 0.1, max_depth = 5, verbose = 100, iterations = 1000, \n",
    "                              early_stopping_rounds = 200, eval_metric = 'RMSE')\n",
    "cb_reg.fit(X_train,y_train)\n",
    "predict = cb_reg.predict(X_test)"
   ]
  },
  {
   "cell_type": "code",
   "execution_count": 30,
   "metadata": {},
   "outputs": [
    {
     "name": "stdout",
     "output_type": "stream",
     "text": [
      "RMSE(memory): 99.801512 days\n"
     ]
    }
   ],
   "source": [
    "rmse = np.sqrt(mean_squared_error(y_test, predict))\n",
    "print(\"RMSE(memory): %f\" %(rmse/24/3600),\"days\")"
   ]
  },
  {
   "cell_type": "markdown",
   "metadata": {},
   "source": [
    "### CatBoost_cpu###"
   ]
  },
  {
   "cell_type": "code",
   "execution_count": 31,
   "metadata": {
    "scrolled": true
   },
   "outputs": [
    {
     "name": "stderr",
     "output_type": "stream",
     "text": [
      "/Users/zhaoyuxuan/anaconda3/lib/python3.7/site-packages/pandas/core/frame.py:3509: SettingWithCopyWarning: \n",
      "A value is trying to be set on a copy of a slice from a DataFrame.\n",
      "Try using .loc[row_indexer,col_indexer] = value instead\n",
      "\n",
      "See the caveats in the documentation: http://pandas.pydata.org/pandas-docs/stable/user_guide/indexing.html#returning-a-view-versus-a-copy\n",
      "  self[k1] = value[k2]\n"
     ]
    }
   ],
   "source": [
    "X = cpu[['hw_type','lthreshold','testname','total_threads','dvfs','socket_num','percent_change']]\n",
    "y = cpu[['timestamp']]\n",
    "\n",
    "categorical_cols = X.columns[X.dtypes==object].tolist()\n",
    "\n",
    "le = LabelEncoder()\n",
    "\n",
    "X[categorical_cols] = X[categorical_cols].apply(lambda col: le.fit_transform(col))"
   ]
  },
  {
   "cell_type": "code",
   "execution_count": 32,
   "metadata": {},
   "outputs": [
    {
     "name": "stdout",
     "output_type": "stream",
     "text": [
      "0:\tlearn: 11898006.4670571\ttotal: 1.99ms\tremaining: 1.98s\n",
      "100:\tlearn: 5464737.7179244\ttotal: 175ms\tremaining: 1.55s\n",
      "200:\tlearn: 4129122.6773024\ttotal: 279ms\tremaining: 1.11s\n",
      "300:\tlearn: 3534898.9415882\ttotal: 362ms\tremaining: 841ms\n",
      "400:\tlearn: 3169241.5822830\ttotal: 448ms\tremaining: 669ms\n",
      "500:\tlearn: 2915052.1737593\ttotal: 541ms\tremaining: 539ms\n",
      "600:\tlearn: 2692865.9791104\ttotal: 633ms\tremaining: 420ms\n",
      "700:\tlearn: 2489288.8564780\ttotal: 716ms\tremaining: 305ms\n",
      "800:\tlearn: 2303380.3940375\ttotal: 811ms\tremaining: 202ms\n",
      "900:\tlearn: 2164901.4691374\ttotal: 897ms\tremaining: 98.6ms\n",
      "999:\tlearn: 2045935.4246923\ttotal: 982ms\tremaining: 0us\n"
     ]
    }
   ],
   "source": [
    "X_train, X_test, y_train, y_test = train_test_split(X, y, test_size=0.2, random_state=8)\n",
    "cb_reg = cb.CatBoostRegressor(learning_rate = 0.1, max_depth = 5, verbose = 100, iterations = 1000, \n",
    "                              early_stopping_rounds = 200, eval_metric = 'RMSE')\n",
    "cb_reg.fit(X_train,y_train)\n",
    "predict = cb_reg.predict(X_test)"
   ]
  },
  {
   "cell_type": "code",
   "execution_count": 33,
   "metadata": {},
   "outputs": [
    {
     "name": "stdout",
     "output_type": "stream",
     "text": [
      "RMSE(cpu): 49.244405 days\n"
     ]
    }
   ],
   "source": [
    "rmse = np.sqrt(mean_squared_error(y_test, predict))\n",
    "print(\"RMSE(cpu): %f\" %(rmse/24/3600),\"days\")"
   ]
  },
  {
   "cell_type": "markdown",
   "metadata": {},
   "source": [
    "### CatBoost_disk###"
   ]
  },
  {
   "cell_type": "code",
   "execution_count": 34,
   "metadata": {},
   "outputs": [],
   "source": [
    "X = disk[['hw_type', 'lthreshold', 'testname', 'device', 'iodepth', 'timestamp', 'percent_change']]\n",
    "y = disk[['timestamp']]\n",
    "\n",
    "categorical_cols = X.columns[X.dtypes==object].tolist()\n",
    "\n",
    "le = LabelEncoder()\n",
    "\n",
    "X[categorical_cols] = X[categorical_cols].apply(lambda col: le.fit_transform(col))"
   ]
  },
  {
   "cell_type": "code",
   "execution_count": 35,
   "metadata": {},
   "outputs": [
    {
     "name": "stdout",
     "output_type": "stream",
     "text": [
      "0:\tlearn: 16887612.6939762\ttotal: 1.43ms\tremaining: 1.43s\n",
      "100:\tlearn: 623945.7173379\ttotal: 146ms\tremaining: 1.3s\n",
      "200:\tlearn: 375831.2418350\ttotal: 225ms\tremaining: 893ms\n",
      "300:\tlearn: 271868.3343212\ttotal: 295ms\tremaining: 686ms\n",
      "400:\tlearn: 213191.5840919\ttotal: 362ms\tremaining: 541ms\n",
      "500:\tlearn: 173027.4210201\ttotal: 442ms\tremaining: 440ms\n",
      "600:\tlearn: 144438.7978839\ttotal: 512ms\tremaining: 340ms\n",
      "700:\tlearn: 125311.9291876\ttotal: 579ms\tremaining: 247ms\n",
      "800:\tlearn: 110058.6426640\ttotal: 664ms\tremaining: 165ms\n",
      "900:\tlearn: 99312.4836234\ttotal: 730ms\tremaining: 80.3ms\n",
      "999:\tlearn: 88394.6169232\ttotal: 796ms\tremaining: 0us\n"
     ]
    }
   ],
   "source": [
    "X_train, X_test, y_train, y_test = train_test_split(X, y, test_size=0.2, random_state=8)\n",
    "cb_reg = cb.CatBoostRegressor(learning_rate = 0.1, max_depth = 5, verbose = 100, iterations = 1000, \n",
    "                              early_stopping_rounds = 200, eval_metric = 'RMSE')\n",
    "cb_reg.fit(X_train,y_train)\n",
    "predict = cb_reg.predict(X_test)"
   ]
  },
  {
   "cell_type": "code",
   "execution_count": 36,
   "metadata": {},
   "outputs": [
    {
     "name": "stdout",
     "output_type": "stream",
     "text": [
      "RMSE(disk): 4.022586 days\n"
     ]
    }
   ],
   "source": [
    "rmse = np.sqrt(mean_squared_error(y_test, predict))\n",
    "print(\"RMSE(disk): %f\" %(rmse/24/3600),\"days\")"
   ]
  }
 ],
 "metadata": {
  "kernelspec": {
   "display_name": "Python 3",
   "language": "python",
   "name": "python3"
  },
  "language_info": {
   "codemirror_mode": {
    "name": "ipython",
    "version": 3
   },
   "file_extension": ".py",
   "mimetype": "text/x-python",
   "name": "python",
   "nbconvert_exporter": "python",
   "pygments_lexer": "ipython3",
   "version": "3.7.0"
  }
 },
 "nbformat": 4,
 "nbformat_minor": 2
}
