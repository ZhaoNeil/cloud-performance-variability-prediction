{
 "cells": [
  {
   "cell_type": "markdown",
   "metadata": {},
   "source": [
    "## Changepoint Collection for the changepoints detection of CCGrid20 paper dataset and save them into files##"
   ]
  },
  {
   "cell_type": "code",
   "execution_count": 28,
   "metadata": {},
   "outputs": [],
   "source": [
    "import csv\n",
    "import pandas as pd\n",
    "import numpy as np\n",
    "import string\n",
    "import matplotlib.pyplot as plt\n",
    "import datetime as dt\n",
    "import os"
   ]
  },
  {
   "cell_type": "code",
   "execution_count": 27,
   "metadata": {},
   "outputs": [],
   "source": [
    "import cpd"
   ]
  },
  {
   "cell_type": "code",
   "execution_count": 19,
   "metadata": {},
   "outputs": [
    {
     "name": "stdout",
     "output_type": "stream",
     "text": [
      "d430      391104\n",
      "c220g5    378288\n",
      "m510      212908\n",
      "c8220     180368\n",
      "c6320     156456\n",
      "xl170     151776\n",
      "m400      150773\n",
      "c220g1    119880\n",
      "c6220      97928\n",
      "r320       60622\n",
      "c6420      58872\n",
      "Name: hw_type, dtype: int64\n"
     ]
    }
   ],
   "source": [
    "data = {}\n",
    "\n",
    "data[\"CPU\"] = pd.DataFrame()\n",
    "data[\"Memory\"] = pd.DataFrame()\n",
    "data[\"Disk\"] = pd.DataFrame()\n",
    "\n",
    "source_dir = './CPU'\n",
    "for f in os.listdir(source_dir):\n",
    "    f_df = pd.read_csv(\"%s/%s\" % (source_dir, f))\n",
    "    hw_type, testname = f.split(\"-\")\n",
    "    f_df[\"hw_type\"] = hw_type\n",
    "    f_df[\"testname\"] = testname\n",
    "    data[\"CPU\"] = pd.concat([data[\"CPU\"], f_df])\n",
    "print (data[\"CPU\"].hw_type.value_counts())"
   ]
  },
  {
   "cell_type": "code",
   "execution_count": 20,
   "metadata": {},
   "outputs": [
    {
     "name": "stdout",
     "output_type": "stream",
     "text": [
      "d430      695296\n",
      "c220g5    672512\n",
      "c8220     649088\n",
      "m510      573088\n",
      "c6320     443648\n",
      "c220g1    372416\n",
      "xl170     269824\n",
      "m400      200970\n",
      "c6220     174208\n",
      "r320      114112\n",
      "c6420     104832\n",
      "Name: hw_type, dtype: int64\n"
     ]
    }
   ],
   "source": [
    "source_dir = './Memory'\n",
    "for f in os.listdir(source_dir):\n",
    "    f_df = pd.read_csv(\"%s/%s\" % (source_dir, f))\n",
    "    hw_type, testname = f.split(\"-\")\n",
    "    f_df[\"hw_type\"] = hw_type\n",
    "    f_df[\"testname\"] = testname\n",
    "    data[\"Memory\"] = pd.concat([data[\"Memory\"], f_df])\n",
    "print (data[\"Memory\"].hw_type.value_counts())"
   ]
  },
  {
   "cell_type": "code",
   "execution_count": 21,
   "metadata": {},
   "outputs": [
    {
     "name": "stdout",
     "output_type": "stream",
     "text": [
      "m400      114768\n",
      "d430       86896\n",
      "c220g5     84048\n",
      "c8220      82464\n",
      "m510       72368\n",
      "c220g1     71616\n",
      "c6320      56384\n",
      "xl170      33704\n",
      "c6420      26208\n",
      "c6220      21040\n",
      "r320       14264\n",
      "Name: hw_type, dtype: int64\n"
     ]
    }
   ],
   "source": [
    "source_dir = './Disk'\n",
    "for f in os.listdir(source_dir):\n",
    "    f_df = pd.read_csv(\"%s/%s\" % (source_dir, f))\n",
    "    hw_type, testname = f.split(\"-\")\n",
    "    f_df[\"hw_type\"] = hw_type\n",
    "    f_df[\"testname\"] = testname\n",
    "    data[\"Disk\"] = pd.concat([data[\"Disk\"], f_df])\n",
    "print (data[\"Disk\"].hw_type.value_counts())"
   ]
  },
  {
   "cell_type": "code",
   "execution_count": 22,
   "metadata": {},
   "outputs": [
    {
     "name": "stdout",
     "output_type": "stream",
     "text": [
      "\n",
      "Processing hw_type: c220g1\n",
      "Processed configs: 576\n",
      "Processed measurements: 119880\n",
      "\n",
      "Processing hw_type: c220g5\n",
      "Processed configs: 1152\n",
      "Processed measurements: 498168\n",
      "\n",
      "Processing hw_type: c6220\n",
      "Processed configs: 1728\n",
      "Processed measurements: 596096\n",
      "\n",
      "Processing hw_type: c6320\n",
      "Processed configs: 2304\n",
      "Processed measurements: 752552\n",
      "\n",
      "Processing hw_type: c6420\n",
      "Processed configs: 2592\n",
      "Processed measurements: 811424\n",
      "\n",
      "Processing hw_type: c8220\n",
      "Processed configs: 3168\n",
      "Processed measurements: 991792\n",
      "\n",
      "Processing hw_type: d430\n",
      "Processed configs: 3744\n",
      "Processed measurements: 1382896\n",
      "\n",
      "Processing hw_type: m400\n",
      "Processed configs: 3872\n",
      "Processed measurements: 1533669\n",
      "\n",
      "Processing hw_type: m510\n",
      "Processed configs: 4160\n",
      "Processed measurements: 1746577\n",
      "\n",
      "Processing hw_type: r320\n",
      "Processed configs: 4432\n",
      "Processed measurements: 1807199\n",
      "\n",
      "Processing hw_type: xl170\n",
      "Processed configs: 4720\n",
      "Processed measurements: 1958975\n"
     ]
    }
   ],
   "source": [
    "df = data[\"CPU\"]\n",
    "factor_list = [\"testname\", \"total_threads\", \"dvfs\", \"socket_num\"]\n",
    "metric = \"exec_time\"\n",
    "\n",
    "lthreshold_list = [0.3, 0.4, 0.5, 0.6, 0.7, 0.8, 0.9, 1.0]\n",
    "\n",
    "dest_dir = \"./CPU_results\"\n",
    "if not os.path.exists(dest_dir):\n",
    "    os.makedirs(dest_dir)\n",
    "\n",
    "meta_df = pd.DataFrame(columns=[\"hw_type\", \"total_measurements\", \"configurations\", \n",
    "                                    \"start_timestamp\", \"end_timestamp\"])\n",
    "indiv_cps = pd.DataFrame(columns = [\"hw_type\", \"lthreshold\"] + \n",
    "                  factor_list +  \n",
    "                  [\"timestamp\", \"percent_change\"])\n",
    "indiv_durations = pd.DataFrame(columns = [\"hw_type\", \"lthreshold\"] + \n",
    "                                     factor_list +  \n",
    "                                     [\"segment_duration\"])\n",
    "cpd.cpd_aggr(df, factor_list, metric, meta_df, lthreshold_list, indiv_cps, indiv_durations,dest_dir)"
   ]
  },
  {
   "cell_type": "code",
   "execution_count": 23,
   "metadata": {},
   "outputs": [
    {
     "name": "stdout",
     "output_type": "stream",
     "text": [
      "\n",
      "Processing hw_type: c220g1\n",
      "Processed configs: 1024\n",
      "Processed measurements: 372416\n",
      "\n",
      "Processing hw_type: c220g5\n",
      "Processed configs: 2048\n",
      "Processed measurements: 1044928\n",
      "\n",
      "Processing hw_type: c6220\n",
      "Processed configs: 3072\n",
      "Processed measurements: 1219136\n",
      "\n",
      "Processing hw_type: c6320\n",
      "Processed configs: 4096\n",
      "Processed measurements: 1662784\n",
      "\n",
      "Processing hw_type: c6420\n",
      "Processed configs: 4608\n",
      "Processed measurements: 1767616\n",
      "\n",
      "Processing hw_type: c8220\n",
      "Processed configs: 5632\n",
      "Processed measurements: 2416704\n",
      "\n",
      "Processing hw_type: d430\n",
      "Processed configs: 6656\n",
      "Processed measurements: 3112000\n",
      "\n",
      "Processing hw_type: m400\n",
      "Processed configs: 6768\n",
      "Processed measurements: 3312970\n",
      "\n",
      "Processing hw_type: m510\n",
      "Processed configs: 7280\n",
      "Processed measurements: 3886058\n",
      "\n",
      "Processing hw_type: r320\n",
      "Processed configs: 7792\n",
      "Processed measurements: 4000170\n",
      "\n",
      "Processing hw_type: xl170\n",
      "Processed configs: 8304\n",
      "Processed measurements: 4269994\n"
     ]
    }
   ],
   "source": [
    "df = data[\"Memory\"]\n",
    "factor_list = [\"testname\", \"dvfs\", \"socket_num\"]\n",
    "metric = \"mean\"\n",
    "\n",
    "lthreshold_list = [0.3, 0.4, 0.5, 0.6, 0.7, 0.8, 0.9, 1.0]\n",
    "\n",
    "dest_dir = \"./Memory_results\"\n",
    "if not os.path.exists(dest_dir):\n",
    "    os.makedirs(dest_dir)\n",
    "\n",
    "meta_df = pd.DataFrame(columns=[\"hw_type\", \"total_measurements\", \"configurations\", \n",
    "                                    \"start_timestamp\", \"end_timestamp\"])\n",
    "indiv_cps = pd.DataFrame(columns = [\"hw_type\", \"lthreshold\"] + \n",
    "                  factor_list +  \n",
    "                  [\"timestamp\", \"percent_change\"])\n",
    "indiv_durations = pd.DataFrame(columns = [\"hw_type\", \"lthreshold\"] + \n",
    "                                     factor_list +  \n",
    "                                     [\"segment_duration\"])\n",
    "\n",
    "cpd.cpd_aggr(df, factor_list, metric, meta_df, lthreshold_list, indiv_cps, indiv_durations,dest_dir)"
   ]
  },
  {
   "cell_type": "code",
   "execution_count": 25,
   "metadata": {},
   "outputs": [
    {
     "name": "stdout",
     "output_type": "stream",
     "text": [
      "\n",
      "Processing hw_type: c220g1\n",
      "Processed configs: 192\n",
      "Processed measurements: 71616\n",
      "\n",
      "Processing hw_type: c220g5\n",
      "Processed configs: 320\n",
      "Processed measurements: 155664\n",
      "\n",
      "Processing hw_type: c6220\n",
      "Processed configs: 448\n",
      "Processed measurements: 176704\n",
      "\n",
      "Processing hw_type: c6320\n",
      "Processed configs: 576\n",
      "Processed measurements: 233088\n",
      "\n",
      "Processing hw_type: c6420\n",
      "Processed configs: 704\n",
      "Processed measurements: 259296\n",
      "\n",
      "Processing hw_type: c8220\n",
      "Processed configs: 832\n",
      "Processed measurements: 341760\n",
      "\n",
      "Processing hw_type: d430\n",
      "Processed configs: 960\n",
      "Processed measurements: 428656\n",
      "\n",
      "Processing hw_type: m400\n",
      "Processed configs: 1024\n",
      "Processed measurements: 543424\n",
      "\n",
      "Processing hw_type: m510\n",
      "Processed configs: 1088\n",
      "Processed measurements: 615792\n",
      "\n",
      "Processing hw_type: r320\n",
      "Processed configs: 1152\n",
      "Processed measurements: 630056\n",
      "\n",
      "Processing hw_type: xl170\n",
      "Processed configs: 1216\n",
      "Processed measurements: 663760\n"
     ]
    }
   ],
   "source": [
    "df = data[\"Disk\"]\n",
    "factor_list = [\"testname\", \"device\", \"iodepth\"]\n",
    "metric = \"mean\"\n",
    "\n",
    "lthreshold_list = [0.3, 0.4, 0.5, 0.6, 0.7, 0.8, 0.9, 1.0]\n",
    "\n",
    "dest_dir = \"./Disk_results\"\n",
    "if not os.path.exists(dest_dir):\n",
    "    os.makedirs(dest_dir)\n",
    "\n",
    "# Initialize dataframes where results will be saved by giving names to the columns\n",
    "meta_df = pd.DataFrame(columns=[\"hw_type\", \"total_measurements\", \"configurations\", \n",
    "                                    \"start_timestamp\", \"end_timestamp\"])\n",
    "indiv_cps = pd.DataFrame(columns = [\"hw_type\", \"lthreshold\"] + \n",
    "                  factor_list +  \n",
    "                  [\"timestamp\", \"percent_change\"])\n",
    "indiv_durations = pd.DataFrame(columns = [\"hw_type\", \"lthreshold\"] + \n",
    "                                     factor_list +  \n",
    "                                     [\"segment_duration\"])\n",
    "cpd.cpd_aggr(df, factor_list, metric, meta_df, lthreshold_list, indiv_cps, indiv_durations,dest_dir)"
   ]
  },
  {
   "cell_type": "code",
   "execution_count": null,
   "metadata": {},
   "outputs": [],
   "source": []
  }
 ],
 "metadata": {
  "kernelspec": {
   "display_name": "Python 3",
   "language": "python",
   "name": "python3"
  },
  "language_info": {
   "codemirror_mode": {
    "name": "ipython",
    "version": 3
   },
   "file_extension": ".py",
   "mimetype": "text/x-python",
   "name": "python",
   "nbconvert_exporter": "python",
   "pygments_lexer": "ipython3",
   "version": "3.7.0"
  }
 },
 "nbformat": 4,
 "nbformat_minor": 2
}
