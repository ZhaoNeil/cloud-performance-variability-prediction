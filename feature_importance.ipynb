{
 "cells": [
  {
   "cell_type": "code",
   "execution_count": 1,
   "metadata": {},
   "outputs": [
    {
     "name": "stderr",
     "output_type": "stream",
     "text": [
      "/Users/zhaoyuxuan/anaconda3/lib/python3.7/site-packages/dask/config.py:161: YAMLLoadWarning: calling yaml.load() without Loader=... is deprecated, as the default Loader is unsafe. Please read https://msg.pyyaml.org/load for full details.\n",
      "  data = yaml.load(f.read()) or {}\n",
      "/Users/zhaoyuxuan/anaconda3/lib/python3.7/site-packages/distributed/config.py:20: YAMLLoadWarning: calling yaml.load() without Loader=... is deprecated, as the default Loader is unsafe. Please read https://msg.pyyaml.org/load for full details.\n",
      "  defaults = yaml.load(f)\n"
     ]
    }
   ],
   "source": [
    "import os\n",
    "import pandas as pd\n",
    "import numpy as np\n",
    "import time\n",
    "import datetime\n",
    "import random\n",
    "from sklearn.preprocessing import LabelEncoder\n",
    "from sklearn.model_selection import train_test_split\n",
    "from sklearn.metrics import mean_squared_error\n",
    "import xgboost as xgb\n",
    "import lightgbm as lgb\n",
    "import catboost as cb\n",
    "from sklearn.model_selection import RandomizedSearchCV\n",
    "from matplotlib import pyplot\n",
    "import seaborn as sns\n",
    "import matplotlib.pyplot as plt"
   ]
  },
  {
   "cell_type": "code",
   "execution_count": 2,
   "metadata": {},
   "outputs": [
    {
     "name": "stdout",
     "output_type": "stream",
     "text": [
      "d430      391104\n",
      "c220g5    378288\n",
      "m510      212908\n",
      "c8220     180368\n",
      "c6320     156456\n",
      "xl170     151776\n",
      "m400      150773\n",
      "c220g1    119880\n",
      "c6220      97928\n",
      "r320       60622\n",
      "c6420      58872\n",
      "Name: hw_type, dtype: int64\n"
     ]
    }
   ],
   "source": [
    "data = {}\n",
    "\n",
    "data[\"CPU\"] = pd.DataFrame()\n",
    "\n",
    "source_dir = './CPU'\n",
    "for f in os.listdir(source_dir):\n",
    "    f_df = pd.read_csv(\"%s/%s\" % (source_dir, f))\n",
    "    hw_type, testname = f.split(\"-\")\n",
    "    f_df[\"hw_type\"] = hw_type\n",
    "    f_df[\"testname\"] = testname\n",
    "    data[\"CPU\"] = pd.concat([data[\"CPU\"], f_df])\n",
    "print (data[\"CPU\"].hw_type.value_counts())"
   ]
  },
  {
   "cell_type": "code",
   "execution_count": 3,
   "metadata": {},
   "outputs": [
    {
     "name": "stdout",
     "output_type": "stream",
     "text": [
      "d430      695296\n",
      "c220g5    672512\n",
      "c8220     649088\n",
      "m510      573088\n",
      "c6320     443648\n",
      "c220g1    372416\n",
      "xl170     269824\n",
      "m400      200970\n",
      "c6220     174208\n",
      "r320      114112\n",
      "c6420     104832\n",
      "Name: hw_type, dtype: int64\n"
     ]
    }
   ],
   "source": [
    "data[\"Memory\"] = pd.DataFrame()\n",
    "\n",
    "source_dir = './Memory'\n",
    "for f in os.listdir(source_dir):\n",
    "    f_df = pd.read_csv(\"%s/%s\" % (source_dir, f))\n",
    "    hw_type, testname = f.split(\"-\")\n",
    "    f_df[\"hw_type\"] = hw_type\n",
    "    f_df[\"testname\"] = testname\n",
    "    data[\"Memory\"] = pd.concat([data[\"Memory\"], f_df])\n",
    "print (data[\"Memory\"].hw_type.value_counts())"
   ]
  },
  {
   "cell_type": "code",
   "execution_count": 4,
   "metadata": {},
   "outputs": [
    {
     "name": "stdout",
     "output_type": "stream",
     "text": [
      "m400      114768\n",
      "d430       86896\n",
      "c220g5     84048\n",
      "c8220      82464\n",
      "m510       72368\n",
      "c220g1     71616\n",
      "c6320      56384\n",
      "xl170      33704\n",
      "c6420      26208\n",
      "c6220      21040\n",
      "r320       14264\n",
      "Name: hw_type, dtype: int64\n"
     ]
    }
   ],
   "source": [
    "data[\"Disk\"] = pd.DataFrame()\n",
    "\n",
    "source_dir = './Disk'\n",
    "for f in os.listdir(source_dir):\n",
    "    f_df = pd.read_csv(\"%s/%s\" % (source_dir, f))\n",
    "    hw_type, testname = f.split(\"-\")\n",
    "    f_df[\"hw_type\"] = hw_type\n",
    "    f_df[\"testname\"] = testname\n",
    "    data[\"Disk\"] = pd.concat([data[\"Disk\"], f_df])\n",
    "print (data[\"Disk\"].hw_type.value_counts())"
   ]
  },
  {
   "cell_type": "code",
   "execution_count": 5,
   "metadata": {},
   "outputs": [],
   "source": [
    "cpu_raw = data[\"CPU\"]\n",
    "memory_raw = data[\"Memory\"]\n",
    "disk_raw = data[\"Disk\"]"
   ]
  },
  {
   "cell_type": "markdown",
   "metadata": {},
   "source": [
    "### Load data ###"
   ]
  },
  {
   "cell_type": "code",
   "execution_count": 6,
   "metadata": {
    "scrolled": true
   },
   "outputs": [
    {
     "name": "stdout",
     "output_type": "stream",
     "text": [
      "Loading: ./CPU_results/indiv-0.70\n",
      "283\n",
      "Loading: ./CPU_results/aggr-1.00\n",
      "4034\n",
      "Loading: ./CPU_results/indiv-0.40\n",
      "147\n",
      "Loading: ./CPU_results/aggr-0.30\n",
      "354\n",
      "Loading: ./CPU_results/aggr-0.90\n",
      "3951\n",
      "Loading: ./CPU_results/aggr-0.70\n",
      "3068\n",
      "Loading: ./CPU_results/indiv-1.00\n",
      "410\n",
      "Loading: ./CPU_results/aggr-0.40\n",
      "930\n",
      "Loading: ./CPU_results/meta\n",
      "11\n",
      "Loading: ./CPU_results/indiv-0.30\n",
      "49\n",
      "Loading: ./CPU_results/indiv-0.90\n",
      "363\n",
      "Loading: ./CPU_results/indiv-0.80\n",
      "325\n",
      "Loading: ./CPU_results/aggr-0.50\n",
      "1944\n",
      "Loading: ./CPU_results/segment-durations\n",
      "6725\n",
      "Loading: ./CPU_results/aggr-0.60\n",
      "2459\n",
      "Loading: ./CPU_results/aggr-0.80\n",
      "3565\n",
      "Loading: ./CPU_results/indiv-0.50\n",
      "193\n",
      "Loading: ./CPU_results/indiv-0.60\n",
      "235\n",
      "Loading: ./Memory_results/indiv-0.70\n",
      "1406\n",
      "Loading: ./Memory_results/aggr-1.00\n",
      "6241\n",
      "Loading: ./Memory_results/indiv-0.40\n",
      "925\n",
      "Loading: ./Memory_results/aggr-0.30\n",
      "2656\n",
      "Loading: ./Memory_results/aggr-0.90\n",
      "6002\n",
      "Loading: ./Memory_results/aggr-0.70\n",
      "5420\n",
      "Loading: ./Memory_results/indiv-1.00\n",
      "1784\n",
      "Loading: ./Memory_results/aggr-0.40\n",
      "3035\n",
      "Loading: ./Memory_results/meta\n",
      "11\n",
      "Loading: ./Memory_results/indiv-0.30\n",
      "492\n",
      "Loading: ./Memory_results/indiv-0.90\n",
      "1630\n",
      "Loading: ./Memory_results/indiv-0.80\n",
      "1529\n",
      "Loading: ./Memory_results/aggr-0.50\n",
      "3900\n",
      "Loading: ./Memory_results/segment-durations\n",
      "18446\n",
      "Loading: ./Memory_results/aggr-0.60\n",
      "4713\n",
      "Loading: ./Memory_results/aggr-0.80\n",
      "5694\n",
      "Loading: ./Memory_results/indiv-0.50\n",
      "1113\n",
      "Loading: ./Memory_results/indiv-0.60\n",
      "1263\n",
      "Loading: ./Disk_results/indiv-0.70\n",
      "160\n",
      "Loading: ./Disk_results/aggr-1.00\n",
      "5701\n",
      "Loading: ./Disk_results/indiv-0.40\n",
      "76\n",
      "Loading: ./Disk_results/aggr-0.30\n",
      "872\n",
      "Loading: ./Disk_results/aggr-0.90\n",
      "5661\n",
      "Loading: ./Disk_results/aggr-0.70\n",
      "4325\n",
      "Loading: ./Disk_results/indiv-1.00\n",
      "245\n",
      "Loading: ./Disk_results/aggr-0.40\n",
      "2458\n",
      "Loading: ./Disk_results/meta\n",
      "11\n",
      "Loading: ./Disk_results/indiv-0.30\n",
      "42\n",
      "Loading: ./Disk_results/indiv-0.90\n",
      "215\n",
      "Loading: ./Disk_results/indiv-0.80\n",
      "191\n",
      "Loading: ./Disk_results/aggr-0.50\n",
      "3312\n",
      "Loading: ./Disk_results/segment-durations\n",
      "2387\n",
      "Loading: ./Disk_results/aggr-0.60\n",
      "3603\n",
      "Loading: ./Disk_results/aggr-0.80\n",
      "5402\n",
      "Loading: ./Disk_results/indiv-0.50\n",
      "108\n",
      "Loading: ./Disk_results/indiv-0.60\n",
      "134\n"
     ]
    }
   ],
   "source": [
    "cpd = {}\n",
    "\n",
    "for dataset in [\"CPU\", \"Memory\", \"Disk\"]:\n",
    "\n",
    "    results_dir = \"./%s_results\" % dataset\n",
    "    if dataset not in cpd.keys():\n",
    "        cpd[dataset] = {} \n",
    "\n",
    "    for f in os.listdir(\"%s\" % results_dir):\n",
    "        # Exclude hidden files (most likely thumbnails)\n",
    "        if f[:2] != \"._\":\n",
    "            print(\"Loading: %s/%s\" % (results_dir, f))\n",
    "            df = pd.read_csv(\"%s/%s\" % (results_dir, f))\n",
    "            print(len(df))\n",
    "\n",
    "            if \"aggr\" in f:\n",
    "                # Extract CPD threshold from the filename \n",
    "                lthreshold = float(f.split(\"-\")[1])\n",
    "\n",
    "                df[\"lthreshold\"] = lthreshold\n",
    "                if \"aggr\" not in cpd[dataset].keys():\n",
    "                    cpd[dataset][\"aggr\"] = pd.DataFrame()\n",
    "                cpd[dataset][\"aggr\"] = pd.concat([cpd[dataset][\"aggr\"], df], sort=False)\n",
    "\n",
    "            if \"indiv\" in f:\n",
    "                if \"indiv\" not in cpd[dataset].keys():\n",
    "                    cpd[dataset][\"indiv\"] = pd.DataFrame()\n",
    "                cpd[dataset][\"indiv\"] = pd.concat([cpd[dataset][\"indiv\"], df], sort=False)\n",
    "\n",
    "            if \"meta\" in f:\n",
    "                cpd[dataset][\"meta\"] = df\n",
    "\n",
    "            if \"segment-durations\" in f:\n",
    "                cpd[dataset][\"segment-durations\"] = df"
   ]
  },
  {
   "cell_type": "code",
   "execution_count": 7,
   "metadata": {
    "scrolled": true
   },
   "outputs": [
    {
     "data": {
      "text/html": [
       "<div>\n",
       "<style scoped>\n",
       "    .dataframe tbody tr th:only-of-type {\n",
       "        vertical-align: middle;\n",
       "    }\n",
       "\n",
       "    .dataframe tbody tr th {\n",
       "        vertical-align: top;\n",
       "    }\n",
       "\n",
       "    .dataframe thead th {\n",
       "        text-align: right;\n",
       "    }\n",
       "</style>\n",
       "<table border=\"1\" class=\"dataframe\">\n",
       "  <thead>\n",
       "    <tr style=\"text-align: right;\">\n",
       "      <th></th>\n",
       "      <th>CPU: CP #</th>\n",
       "      <th>Mem: CP #</th>\n",
       "      <th>Disk: CP #</th>\n",
       "      <th>Total #</th>\n",
       "    </tr>\n",
       "  </thead>\n",
       "  <tbody>\n",
       "    <tr>\n",
       "      <th>0.3</th>\n",
       "      <td>49</td>\n",
       "      <td>492</td>\n",
       "      <td>42</td>\n",
       "      <td>583.0</td>\n",
       "    </tr>\n",
       "    <tr>\n",
       "      <th>0.4</th>\n",
       "      <td>147</td>\n",
       "      <td>925</td>\n",
       "      <td>76</td>\n",
       "      <td>1148.0</td>\n",
       "    </tr>\n",
       "    <tr>\n",
       "      <th>0.5</th>\n",
       "      <td>193</td>\n",
       "      <td>1113</td>\n",
       "      <td>108</td>\n",
       "      <td>1414.0</td>\n",
       "    </tr>\n",
       "    <tr>\n",
       "      <th>0.6</th>\n",
       "      <td>235</td>\n",
       "      <td>1263</td>\n",
       "      <td>134</td>\n",
       "      <td>1632.0</td>\n",
       "    </tr>\n",
       "    <tr>\n",
       "      <th>0.7</th>\n",
       "      <td>283</td>\n",
       "      <td>1406</td>\n",
       "      <td>160</td>\n",
       "      <td>1849.0</td>\n",
       "    </tr>\n",
       "    <tr>\n",
       "      <th>0.8</th>\n",
       "      <td>325</td>\n",
       "      <td>1529</td>\n",
       "      <td>191</td>\n",
       "      <td>2045.0</td>\n",
       "    </tr>\n",
       "    <tr>\n",
       "      <th>0.9</th>\n",
       "      <td>363</td>\n",
       "      <td>1630</td>\n",
       "      <td>215</td>\n",
       "      <td>2208.0</td>\n",
       "    </tr>\n",
       "    <tr>\n",
       "      <th>1.0</th>\n",
       "      <td>410</td>\n",
       "      <td>1784</td>\n",
       "      <td>245</td>\n",
       "      <td>2439.0</td>\n",
       "    </tr>\n",
       "    <tr>\n",
       "      <th>Total</th>\n",
       "      <td>2005</td>\n",
       "      <td>10142</td>\n",
       "      <td>1171</td>\n",
       "      <td>13318.0</td>\n",
       "    </tr>\n",
       "  </tbody>\n",
       "</table>\n",
       "</div>"
      ],
      "text/plain": [
       "      CPU: CP # Mem: CP # Disk: CP #  Total #\n",
       "0.3          49       492         42    583.0\n",
       "0.4         147       925         76   1148.0\n",
       "0.5         193      1113        108   1414.0\n",
       "0.6         235      1263        134   1632.0\n",
       "0.7         283      1406        160   1849.0\n",
       "0.8         325      1529        191   2045.0\n",
       "0.9         363      1630        215   2208.0\n",
       "1.0         410      1784        245   2439.0\n",
       "Total      2005     10142       1171  13318.0"
      ]
     },
     "metadata": {},
     "output_type": "display_data"
    }
   ],
   "source": [
    "count_df = pd.DataFrame(columns=[\"CPU: CP #\", \"Mem: CP #\", \"Disk: CP #\"])\n",
    "for lthreshold in cpd[\"CPU\"][\"indiv\"][\"lthreshold\"].sort_values().unique():\n",
    "    cpu_cpd_c = len(cpd[\"CPU\"][\"indiv\"][(cpd[\"CPU\"][\"indiv\"][\"lthreshold\"] == lthreshold)])\n",
    "    \n",
    "    mem_cpd_c = len(cpd[\"Memory\"][\"indiv\"][(cpd[\"Memory\"][\"indiv\"][\"lthreshold\"] == lthreshold)])\n",
    "    \n",
    "    disk_cpd_c = len(cpd[\"Disk\"][\"indiv\"][(cpd[\"Disk\"][\"indiv\"][\"lthreshold\"] == lthreshold)])\n",
    "    \n",
    "    count_df.loc[lthreshold] = (cpu_cpd_c, mem_cpd_c, disk_cpd_c)\n",
    "    \n",
    "count_df[\"Total #\"] = count_df.sum(1)\n",
    "count_df.loc['Total',:] = count_df.sum(0)\n",
    "display(count_df)"
   ]
  },
  {
   "cell_type": "code",
   "execution_count": 8,
   "metadata": {},
   "outputs": [],
   "source": [
    "cpu_cp = cpd['CPU']['indiv']\n",
    "memory_cp = cpd['Memory']['indiv']\n",
    "disk_cp = cpd['Disk']['indiv']"
   ]
  },
  {
   "cell_type": "code",
   "execution_count": 9,
   "metadata": {},
   "outputs": [],
   "source": [
    "cpu_raw.reset_index(drop=True, inplace=True)\n",
    "memory_raw.reset_index(drop=True, inplace=True)\n",
    "disk_raw.reset_index(drop=True, inplace=True)"
   ]
  },
  {
   "cell_type": "code",
   "execution_count": 10,
   "metadata": {},
   "outputs": [],
   "source": [
    "cpu_result = pd.merge(cpu_cp,cpu_raw,how='inner',on=['hw_type', 'testname', 'total_threads', 'dvfs',\n",
    "       'socket_num', 'timestamp'])\n",
    "memory_result = pd.merge(memory_cp,memory_raw,how='inner',on=['hw_type', 'testname', 'dvfs',\n",
    "       'socket_num', 'timestamp'])\n",
    "disk_result = pd.merge(disk_cp,disk_raw,how='inner',on=['hw_type', 'testname', 'device',\n",
    "       'iodepth', 'timestamp'])"
   ]
  },
  {
   "cell_type": "code",
   "execution_count": 39,
   "metadata": {},
   "outputs": [],
   "source": [
    "class Data:\n",
    "    X = pd.DataFrame()\n",
    "    y = pd.DataFrame()\n",
    "    \n",
    "    def __init__(self, X, y):\n",
    "        self.X = X\n",
    "        self.y = y\n",
    "    def xgb(self):\n",
    "        X_train, X_test, y_train, y_test = train_test_split(self.X, self.y, test_size=0.2, random_state=8)\n",
    "        xg_reg = xgb.XGBRegressor(objective ='reg:squarederror', colsample_bytree = 0.7, learning_rate = 0.1,\n",
    "                                  max_depth = 5, subsample = 0.9, n_estimators = 1000,random_state = 3)\n",
    "        xg_reg.fit(X_train,y_train)\n",
    "#         xgb.plot_importance(xg_reg)\n",
    "#         pyplot.show()\n",
    "        feature_imp = pd.Series(xg_reg.feature_importances_,index=X.columns).sort_values(ascending=False)\n",
    "        print(feature_imp)\n",
    "        a4_dims = (11.7, 6.27)\n",
    "        fig, ax = pyplot.subplots(figsize=a4_dims)\n",
    "        sns.barplot(ax=ax, x=feature_imp, y=feature_imp.index)\n",
    "        plt.xlabel('feature importance',fontsize=20)\n",
    "        plt.ylabel('feature',fontsize=20)\n",
    "        plt.tick_params(axis='x', labelsize=20)\n",
    "        plt.tick_params(axis='y', labelsize=20)\n",
    "        plt.show()\n",
    "        predict_xgb = xg_reg.predict(X_test)\n",
    "        rmse = np.sqrt(mean_squared_error(y_test, predict_xgb))\n",
    "        print(\"RMSE(XgBoost): %f\" %(rmse/3600/24),\"days\")\n",
    "        fo = open(\"pred_results.txt\", \"a+\")\n",
    "        fo.write(\"RMSE(XgBoost): %f days\" %(rmse/24/3600)+\"\\n\")\n",
    "        fo.close()\n",
    "    def lgb(self):\n",
    "        X_train, X_test, y_train, y_test = train_test_split(self.X, self.y, test_size=0.2, random_state=8)\n",
    "        lgb_reg = lgb.LGBMRegressor(objective = 'mse', colsample_bytree = 0.7, learning_rate = 0.1,\n",
    "                                    max_depth = 5, subsample = 0.9, n_estimators = 1000, random_state = 3, \n",
    "                                    num_leaves = 30)\n",
    "        lgb_reg.fit(X_train,y_train)\n",
    "        predict_lgb = lgb_reg.predict(X_test)\n",
    "        rmse = np.sqrt(mean_squared_error(y_test, predict_lgb))\n",
    "        print(\"RMSE(LightGBM): %f\" %(rmse/3600/24),\"days\")\n",
    "        fo = open(\"pred_results.txt\", \"a+\")\n",
    "        fo.write(\"RMSE(LightGBM): %f days\" %(rmse/24/3600)+\"\\n\")\n",
    "        fo.close()\n",
    "    def cb(self):\n",
    "        X_train, X_test, y_train, y_test = train_test_split(self.X, self.y, test_size=0.2, random_state=8)\n",
    "        cb_reg = cb.CatBoostRegressor(learning_rate = 0.1, max_depth = 5, verbose = 0, iterations = 1000,\n",
    "                                      early_stopping_rounds = 200, eval_metric = 'RMSE',random_state = 3)\n",
    "        cb_reg.fit(X_train,y_train)\n",
    "        predict_cb = cb_reg.predict(X_test)\n",
    "        rmse = np.sqrt(mean_squared_error(y_test, predict_cb))\n",
    "        print(\"RMSE(CatBoost): %f\" %(rmse/3600/24),\"days\")\n",
    "        fo = open(\"pred_results.txt\", \"a+\")\n",
    "        fo.write(\"RMSE(CatBoost): %f days\" %(rmse/24/3600)+\"\\n\")\n",
    "        fo.close()"
   ]
  },
  {
   "cell_type": "code",
   "execution_count": 40,
   "metadata": {},
   "outputs": [
    {
     "name": "stdout",
     "output_type": "stream",
     "text": [
      "Index(['hw_type', 'lthreshold', 'testname', 'total_threads', 'dvfs',\n",
      "       'socket_num', 'timestamp', 'percent_change', 'class', 'nodeid',\n",
      "       'kernel_release', 'os_release', 'gcc_ver', 'version', 'version_hash',\n",
      "       'exec_time'],\n",
      "      dtype='object')\n",
      "Index(['hw_type', 'lthreshold', 'testname', 'dvfs', 'socket_num', 'timestamp',\n",
      "       'percent_change', 'nodeid', 'kernel_release', 'os_release', 'gcc_ver',\n",
      "       'version_hash', 'mem_clock_speed', 'units', 'mean', 'min', 'max',\n",
      "       'stdev'],\n",
      "      dtype='object')\n",
      "Index(['hw_type', 'lthreshold', 'testname', 'device', 'iodepth', 'timestamp',\n",
      "       'percent_change', 'disk_model', 'disk_serial', 'disk_size', 'nodeid',\n",
      "       'units', 'mean', 'min', 'max', 'stdev'],\n",
      "      dtype='object')\n"
     ]
    }
   ],
   "source": [
    "print(cpu_result.columns)\n",
    "print(memory_result.columns)\n",
    "print(disk_result.columns)"
   ]
  },
  {
   "cell_type": "markdown",
   "metadata": {},
   "source": [
    "### Memory ###"
   ]
  },
  {
   "cell_type": "code",
   "execution_count": 41,
   "metadata": {},
   "outputs": [
    {
     "name": "stderr",
     "output_type": "stream",
     "text": [
      "/Users/zhaoyuxuan/anaconda3/lib/python3.7/site-packages/pandas/core/frame.py:3391: SettingWithCopyWarning: \n",
      "A value is trying to be set on a copy of a slice from a DataFrame.\n",
      "Try using .loc[row_indexer,col_indexer] = value instead\n",
      "\n",
      "See the caveats in the documentation: http://pandas.pydata.org/pandas-docs/stable/indexing.html#indexing-view-versus-copy\n",
      "  self[k1] = value[k2]\n"
     ]
    },
    {
     "name": "stdout",
     "output_type": "stream",
     "text": [
      "os_release         0.652121\n",
      "gcc_ver            0.241121\n",
      "kernel_release     0.081985\n",
      "version_hash       0.020172\n",
      "hw_type            0.002372\n",
      "mem_clock_speed    0.000573\n",
      "percent_change     0.000446\n",
      "nodeid             0.000390\n",
      "socket_num         0.000131\n",
      "min                0.000120\n",
      "dvfs               0.000111\n",
      "mean               0.000111\n",
      "testname           0.000110\n",
      "max                0.000106\n",
      "stdev              0.000099\n",
      "lthreshold         0.000032\n",
      "units              0.000000\n",
      "dtype: float32\n"
     ]
    },
    {
     "data": {
      "image/png": "[encoded data removed]",
      "text/plain": [
       "<Figure size 842.4x451.44 with 1 Axes>"
      ]
     },
     "metadata": {
      "needs_background": "light"
     },
     "output_type": "display_data"
    },
    {
     "name": "stdout",
     "output_type": "stream",
     "text": [
      "RMSE(XgBoost): 5.202039 days\n",
      "RMSE(LightGBM): 5.790969 days\n",
      "RMSE(CatBoost): 6.748461 days\n"
     ]
    }
   ],
   "source": [
    "X = memory_result[['hw_type', 'lthreshold', 'testname', 'dvfs', 'socket_num',\n",
    "       'percent_change', 'nodeid', 'kernel_release', 'os_release', 'gcc_ver',\n",
    "       'version_hash', 'mem_clock_speed', 'units', 'mean', 'min', 'max',\n",
    "       'stdev']]\n",
    "y = memory_result[['timestamp']]\n",
    "categorical_cols = X.columns[X.dtypes==object].tolist()\n",
    "le = LabelEncoder()\n",
    "X[categorical_cols] = X[categorical_cols].apply(lambda col: le.fit_transform(col))\n",
    "\n",
    "Memory = Data(X,y)\n",
    "Memory.xgb()\n",
    "Memory.lgb()\n",
    "Memory.cb()"
   ]
  },
  {
   "cell_type": "markdown",
   "metadata": {},
   "source": [
    "### CPU###"
   ]
  },
  {
   "cell_type": "code",
   "execution_count": 42,
   "metadata": {},
   "outputs": [
    {
     "name": "stderr",
     "output_type": "stream",
     "text": [
      "/Users/zhaoyuxuan/anaconda3/lib/python3.7/site-packages/pandas/core/frame.py:3391: SettingWithCopyWarning: \n",
      "A value is trying to be set on a copy of a slice from a DataFrame.\n",
      "Try using .loc[row_indexer,col_indexer] = value instead\n",
      "\n",
      "See the caveats in the documentation: http://pandas.pydata.org/pandas-docs/stable/indexing.html#indexing-view-versus-copy\n",
      "  self[k1] = value[k2]\n"
     ]
    },
    {
     "name": "stdout",
     "output_type": "stream",
     "text": [
      "gcc_ver           0.377703\n",
      "kernel_release    0.326896\n",
      "version_hash      0.271891\n",
      "hw_type           0.009024\n",
      "os_release        0.004443\n",
      "class             0.002075\n",
      "dvfs              0.001742\n",
      "nodeid            0.001374\n",
      "total_threads     0.001330\n",
      "exec_time         0.001257\n",
      "percent_change    0.001158\n",
      "testname          0.000687\n",
      "socket_num        0.000287\n",
      "lthreshold        0.000136\n",
      "version           0.000000\n",
      "dtype: float32\n"
     ]
    },
    {
     "data": {
      "image/png": "[encoded data removed]",
      "text/plain": [
       "<Figure size 842.4x451.44 with 1 Axes>"
      ]
     },
     "metadata": {
      "needs_background": "light"
     },
     "output_type": "display_data"
    },
    {
     "name": "stdout",
     "output_type": "stream",
     "text": [
      "RMSE(XgBoost): 5.519595 days\n",
      "RMSE(LightGBM): 5.880389 days\n",
      "RMSE(CatBoost): 6.034927 days\n"
     ]
    }
   ],
   "source": [
    "X = cpu_result[['hw_type', 'lthreshold', 'testname', 'total_threads', 'dvfs',\n",
    "       'socket_num', 'percent_change', 'class', 'nodeid', 'kernel_release', \n",
    "       'os_release', 'gcc_ver', 'version', 'version_hash', 'exec_time']]\n",
    "y = cpu_result[['timestamp']]\n",
    "categorical_cols = X.columns[X.dtypes==object].tolist()\n",
    "X[categorical_cols] = X[categorical_cols].apply(lambda col: le.fit_transform(col))\n",
    "\n",
    "Cpu = Data(X,y)\n",
    "Cpu.xgb()\n",
    "Cpu.lgb()\n",
    "Cpu.cb()"
   ]
  },
  {
   "cell_type": "markdown",
   "metadata": {},
   "source": [
    "### Disk ###"
   ]
  },
  {
   "cell_type": "code",
   "execution_count": 43,
   "metadata": {
    "scrolled": true
   },
   "outputs": [
    {
     "name": "stderr",
     "output_type": "stream",
     "text": [
      "/Users/zhaoyuxuan/anaconda3/lib/python3.7/site-packages/ipykernel_launcher.py:6: SettingWithCopyWarning: \n",
      "A value is trying to be set on a copy of a slice from a DataFrame.\n",
      "Try using .loc[row_indexer,col_indexer] = value instead\n",
      "\n",
      "See the caveats in the documentation: http://pandas.pydata.org/pandas-docs/stable/indexing.html#indexing-view-versus-copy\n",
      "  \n",
      "/Users/zhaoyuxuan/anaconda3/lib/python3.7/site-packages/pandas/core/frame.py:3391: SettingWithCopyWarning: \n",
      "A value is trying to be set on a copy of a slice from a DataFrame.\n",
      "Try using .loc[row_indexer,col_indexer] = value instead\n",
      "\n",
      "See the caveats in the documentation: http://pandas.pydata.org/pandas-docs/stable/indexing.html#indexing-view-versus-copy\n",
      "  self[k1] = value[k2]\n"
     ]
    },
    {
     "name": "stdout",
     "output_type": "stream",
     "text": [
      "disk_size         0.270014\n",
      "iodepth           0.125047\n",
      "disk_model        0.100030\n",
      "hw_type           0.093148\n",
      "disk_serial       0.073326\n",
      "mean              0.060746\n",
      "nodeid            0.052682\n",
      "percent_change    0.046401\n",
      "max               0.043754\n",
      "stdev             0.040315\n",
      "min               0.034603\n",
      "testname          0.029102\n",
      "device            0.028088\n",
      "lthreshold        0.002743\n",
      "units             0.000000\n",
      "dtype: float32\n"
     ]
    },
    {
     "data": {
      "image/png": "[encoded data removed]",
      "text/plain": [
       "<Figure size 842.4x451.44 with 1 Axes>"
      ]
     },
     "metadata": {
      "needs_background": "light"
     },
     "output_type": "display_data"
    },
    {
     "name": "stdout",
     "output_type": "stream",
     "text": [
      "RMSE(XgBoost): 42.470911 days\n",
      "RMSE(LightGBM): 47.653095 days\n",
      "RMSE(CatBoost): 47.056258 days\n"
     ]
    }
   ],
   "source": [
    "X = disk_result[['hw_type', 'lthreshold', 'testname', 'device', 'iodepth',\n",
    "          'percent_change', 'disk_model', 'disk_serial', 'disk_size', \n",
    "          'nodeid', 'units', 'mean', 'min', 'max', 'stdev']]\n",
    "y = disk_result[['timestamp']]\n",
    "categorical_cols = X.columns[X.dtypes==object].tolist()\n",
    "X['disk_serial'] = le.fit_transform(X['disk_serial'].astype(str))\n",
    "X[categorical_cols] = X[categorical_cols].apply(lambda col: le.fit_transform(col))\n",
    "\n",
    "Disk = Data(X,y)\n",
    "Disk.xgb()\n",
    "Disk.lgb()\n",
    "Disk.cb()"
   ]
  },
  {
   "cell_type": "code",
   "execution_count": null,
   "metadata": {},
   "outputs": [],
   "source": []
  }
 ],
 "metadata": {
  "kernelspec": {
   "display_name": "Python 3",
   "language": "python",
   "name": "python3"
  },
  "language_info": {
   "codemirror_mode": {
    "name": "ipython",
    "version": 3
   },
   "file_extension": ".py",
   "mimetype": "text/x-python",
   "name": "python",
   "nbconvert_exporter": "python",
   "pygments_lexer": "ipython3",
   "version": "3.7.0"
  }
 },
 "nbformat": 4,
 "nbformat_minor": 2
}
