{
 "cells": [
  {
   "cell_type": "markdown",
   "metadata": {},
   "source": [
    "# Changepoint Detection for the OSDI 2018 paper \"Taming Performance Variability\"#"
   ]
  },
  {
   "cell_type": "code",
   "execution_count": 1,
   "metadata": {},
   "outputs": [],
   "source": [
    "import csv\n",
    "import pandas as pd\n",
    "import numpy as np\n",
    "import string\n",
    "import matplotlib.pyplot as plt\n",
    "import datetime as dt\n",
    "import os"
   ]
  },
  {
   "cell_type": "code",
   "execution_count": 3,
   "metadata": {},
   "outputs": [],
   "source": [
    "import cpd"
   ]
  },
  {
   "cell_type": "code",
   "execution_count": 4,
   "metadata": {},
   "outputs": [],
   "source": [
    "dict = {}\n",
    "\n",
    "source_dir = './cloudlab-benchmarks-osdi18-data-and-nodebooks/data/raw-data/'\n",
    "for f in os.listdir(source_dir):\n",
    "    if \".csv\" in f:\n",
    "        dict[os.path.splitext(f)[0]] = pd.read_csv(source_dir + f)"
   ]
  },
  {
   "cell_type": "code",
   "execution_count": 5,
   "metadata": {},
   "outputs": [],
   "source": [
    "# dict['disk_info'].T"
   ]
  },
  {
   "cell_type": "code",
   "execution_count": 6,
   "metadata": {},
   "outputs": [],
   "source": [
    "# dict['disk_results'].T"
   ]
  },
  {
   "cell_type": "code",
   "execution_count": 7,
   "metadata": {},
   "outputs": [],
   "source": [
    "# dict['env_info'].T"
   ]
  },
  {
   "cell_type": "code",
   "execution_count": 8,
   "metadata": {},
   "outputs": [],
   "source": [
    "# dict['fio_info'].T"
   ]
  },
  {
   "cell_type": "code",
   "execution_count": 9,
   "metadata": {},
   "outputs": [],
   "source": [
    "# dict['iperf3_info'].T"
   ]
  },
  {
   "cell_type": "code",
   "execution_count": 10,
   "metadata": {},
   "outputs": [],
   "source": [
    "# dict['iperf3_results'].T"
   ]
  },
  {
   "cell_type": "code",
   "execution_count": 11,
   "metadata": {},
   "outputs": [],
   "source": [
    "# dict['mem_results'].T"
   ]
  },
  {
   "cell_type": "code",
   "execution_count": 12,
   "metadata": {},
   "outputs": [],
   "source": [
    "# dict['membench_info'].T"
   ]
  },
  {
   "cell_type": "code",
   "execution_count": 13,
   "metadata": {},
   "outputs": [],
   "source": [
    "# dict['network_info'].T"
   ]
  },
  {
   "cell_type": "code",
   "execution_count": 14,
   "metadata": {},
   "outputs": [],
   "source": [
    "# dict['ping_info'].T"
   ]
  },
  {
   "cell_type": "code",
   "execution_count": 15,
   "metadata": {},
   "outputs": [],
   "source": [
    "# dict['ping_results'].T"
   ]
  },
  {
   "cell_type": "code",
   "execution_count": 16,
   "metadata": {},
   "outputs": [],
   "source": [
    "# dict['stream_info'].T"
   ]
  },
  {
   "cell_type": "code",
   "execution_count": 17,
   "metadata": {},
   "outputs": [],
   "source": [
    "raw_disk = pd.merge(dict['disk_results'], dict['env_info'], \n",
    "                on=['run_uuid','nodeid','nodeuuid','timestamp'])\n",
    "raw_disk['disk_name'] = raw_disk['device'].apply(lambda x: x.rstrip(string.digits) if 'nvm' not in x else x[:-2])\n",
    "raw_disk['disk_name'].unique()\n",
    "raw_disk = pd.merge(raw_disk, dict['disk_info'], \n",
    "                on=['run_uuid','timestamp','nodeuuid','disk_name','nodeid'])\n",
    "raw_disk['disk_size'] = raw_disk['disk_size'].apply(lambda x: x.lstrip())"
   ]
  },
  {
   "cell_type": "code",
   "execution_count": 18,
   "metadata": {},
   "outputs": [],
   "source": [
    "# raw_disk.T"
   ]
  },
  {
   "cell_type": "code",
   "execution_count": 19,
   "metadata": {},
   "outputs": [
    {
     "data": {
      "text/plain": [
       "139864"
      ]
     },
     "execution_count": 19,
     "metadata": {},
     "output_type": "execute_result"
    }
   ],
   "source": [
    "exclude_ids = []\n",
    "for idx, grp in raw_disk.groupby([\"site\", \"hw_type\", \"device\", \"disk_type\", \"disk_model\", \"disk_size\"]):\n",
    "#     print(idx, len(grp))\n",
    "    if len(grp)< 200:\n",
    "        exclude_ids.extend(grp.index.values)\n",
    "disk = raw_disk.drop(exclude_ids, inplace=False)\n",
    "# Exclude measurements on or after April 2, 2018\n",
    "disk = disk[disk[\"timestamp\"] <= 1522636071]\n",
    "disk = disk[disk[\"run_success\"] != 0]\n",
    "\n",
    "len(disk)"
   ]
  },
  {
   "cell_type": "code",
   "execution_count": 20,
   "metadata": {},
   "outputs": [],
   "source": [
    "# print(disk.hw_type.value_counts())"
   ]
  },
  {
   "cell_type": "code",
   "execution_count": 21,
   "metadata": {},
   "outputs": [
    {
     "name": "stdout",
     "output_type": "stream",
     "text": [
      "\n",
      "Processing hw_type: c220g1\n",
      "Processed configs: 192\n",
      "Processed measurements: 19000\n",
      "\n",
      "Processing hw_type: c220g2\n",
      "Processed configs: 384\n",
      "Processed measurements: 55560\n",
      "\n",
      "Processing hw_type: c6320\n",
      "Processed configs: 512\n",
      "Processed measurements: 67416\n",
      "\n",
      "Processing hw_type: c8220\n",
      "Processed configs: 640\n",
      "Processed measurements: 95288\n",
      "\n",
      "Processing hw_type: m400\n",
      "Processed configs: 704\n",
      "Processed measurements: 123816\n",
      "\n",
      "Processing hw_type: m510\n",
      "Processed configs: 768\n",
      "Processed measurements: 139864\n"
     ]
    }
   ],
   "source": [
    "df = disk\n",
    "factor_list = [\"testname\",\"device\",\"iodepth\"]\n",
    "metric = \"mean\"\n",
    "\n",
    "dest_dir = \"./disk_cpd\"\n",
    "if not os.path.exists(dest_dir):\n",
    "    os.makedirs(dest_dir)\n",
    "\n",
    "lthreshold_list = [0.3, 0.4, 0.5, 0.6, 0.7, 0.8, 0.9, 1.0]\n",
    "\n",
    "meta_df = pd.DataFrame(columns=[\"hw_type\", \"total_measurements\", \"configurations\", \n",
    "                                    \"start_timestamp\", \"end_timestamp\"])\n",
    "indiv_cps = pd.DataFrame(columns = [\"hw_type\", \"lthreshold\"] + \n",
    "                  factor_list +  \n",
    "                  [\"timestamp\", \"percent_change\"])\n",
    "indiv_durations = pd.DataFrame(columns = [\"hw_type\", \"lthreshold\"] + \n",
    "                                     factor_list +  \n",
    "                                     [\"segment_duration\"])\n",
    "\n",
    "\n",
    "cpd.cpd_aggr(df, factor_list, metric, meta_df, lthreshold_list, indiv_cps, indiv_durations,dest_dir)"
   ]
  },
  {
   "cell_type": "code",
   "execution_count": 22,
   "metadata": {},
   "outputs": [
    {
     "name": "stdout",
     "output_type": "stream",
     "text": [
      "Loading:disk_cpd/indiv-0.70\n",
      "25\n",
      "Loading:disk_cpd/aggr-1.00\n",
      "1160\n",
      "Loading:disk_cpd/indiv-0.40\n",
      "5\n",
      "Loading:disk_cpd/aggr-0.30\n",
      "150\n",
      "Loading:disk_cpd/aggr-0.90\n",
      "986\n",
      "Loading:disk_cpd/aggr-0.70\n",
      "289\n",
      "Loading:disk_cpd/indiv-1.00\n",
      "76\n",
      "Loading:disk_cpd/aggr-0.40\n",
      "80\n",
      "Loading:disk_cpd/meta\n",
      "6\n",
      "Loading:disk_cpd/indiv-0.30\n",
      "18\n",
      "Loading:disk_cpd/indiv-0.90\n",
      "57\n",
      "Loading:disk_cpd/indiv-0.80\n",
      "39\n",
      "Loading:disk_cpd/aggr-0.50\n",
      "112\n",
      "Loading:disk_cpd/segment-durations\n",
      "995\n",
      "Loading:disk_cpd/aggr-0.60\n",
      "235\n",
      "Loading:disk_cpd/aggr-0.80\n",
      "759\n",
      "Loading:disk_cpd/indiv-0.50\n",
      "10\n",
      "Loading:disk_cpd/indiv-0.60\n",
      "15\n"
     ]
    }
   ],
   "source": [
    "cpd = {}\n",
    "cpd[\"disk\"] = {}\n",
    "result_dir = \"disk_cpd\"\n",
    "for f in os.listdir(result_dir):\n",
    "    if f[:2] != \"._\":\n",
    "        print(\"Loading:%s/%s\" %(result_dir,f))\n",
    "        df = pd.read_csv(\"%s/%s\" %(result_dir,f))\n",
    "        print(len(df))\n",
    "        \n",
    "        if \"aggr\" in f:\n",
    "            lthreshold = float(f.split(\"-\")[1])\n",
    "            df[\"lthreshold\"] = lthreshold\n",
    "            if \"aggr\" not in cpd[\"disk\"].keys():\n",
    "                cpd[\"disk\"][\"aggr\"] = pd.DataFrame()\n",
    "            cpd[\"disk\"][\"aggr\"] = pd.concat([cpd[\"disk\"][\"aggr\"], df], sort=False)\n",
    "            \n",
    "        if \"indiv\" in f:\n",
    "            if \"indiv\" not in cpd[\"disk\"].keys():\n",
    "                cpd[\"disk\"][\"indiv\"] = pd.DataFrame()\n",
    "                cpd[\"disk\"][\"indiv\"] = pd.concat([cpd[\"disk\"][\"indiv\"], df], sort=False)\n",
    "\n",
    "        if \"meta\" in f:\n",
    "            cpd[\"disk\"][\"meta\"] = df\n",
    "            \n",
    "        if \"segment-durations\" in f:\n",
    "            cpd[\"disk\"][\"segment-durations\"] = df"
   ]
  },
  {
   "cell_type": "code",
   "execution_count": 23,
   "metadata": {},
   "outputs": [
    {
     "data": {
      "text/plain": [
       "1.0    172\n",
       "0.9    153\n",
       "0.8    135\n",
       "0.7    121\n",
       "0.6    111\n",
       "0.5    106\n",
       "0.4    101\n",
       "0.3     96\n",
       "Name: lthreshold, dtype: int64"
      ]
     },
     "execution_count": 23,
     "metadata": {},
     "output_type": "execute_result"
    }
   ],
   "source": [
    "cpd[\"disk\"][\"segment-durations\"].lthreshold.value_counts()"
   ]
  },
  {
   "cell_type": "code",
   "execution_count": 24,
   "metadata": {},
   "outputs": [
    {
     "data": {
      "text/plain": [
       "c220g2    1208\n",
       "c220g1     720\n",
       "c8220      720\n",
       "m510       521\n",
       "c6320      370\n",
       "m400       232\n",
       "Name: hw_type, dtype: int64"
      ]
     },
     "execution_count": 24,
     "metadata": {},
     "output_type": "execute_result"
    }
   ],
   "source": [
    "cpd[\"disk\"][\"aggr\"].hw_type.value_counts()"
   ]
  },
  {
   "cell_type": "code",
   "execution_count": 25,
   "metadata": {},
   "outputs": [
    {
     "data": {
      "text/html": [
       "<div>\n",
       "<style scoped>\n",
       "    .dataframe tbody tr th:only-of-type {\n",
       "        vertical-align: middle;\n",
       "    }\n",
       "\n",
       "    .dataframe tbody tr th {\n",
       "        vertical-align: top;\n",
       "    }\n",
       "\n",
       "    .dataframe thead th {\n",
       "        text-align: right;\n",
       "    }\n",
       "</style>\n",
       "<table border=\"1\" class=\"dataframe\">\n",
       "  <thead>\n",
       "    <tr style=\"text-align: right;\">\n",
       "      <th></th>\n",
       "      <th>hw_type</th>\n",
       "      <th>total_measurements</th>\n",
       "      <th>configurations</th>\n",
       "      <th>start_timestamp</th>\n",
       "      <th>end_timestamp</th>\n",
       "    </tr>\n",
       "  </thead>\n",
       "  <tbody>\n",
       "    <tr>\n",
       "      <th>0</th>\n",
       "      <td>c220g1</td>\n",
       "      <td>19000</td>\n",
       "      <td>24</td>\n",
       "      <td>1495272056</td>\n",
       "      <td>1522621977</td>\n",
       "    </tr>\n",
       "    <tr>\n",
       "      <th>1</th>\n",
       "      <td>c220g2</td>\n",
       "      <td>36560</td>\n",
       "      <td>24</td>\n",
       "      <td>1495272065</td>\n",
       "      <td>1522622172</td>\n",
       "    </tr>\n",
       "    <tr>\n",
       "      <th>2</th>\n",
       "      <td>c6320</td>\n",
       "      <td>11856</td>\n",
       "      <td>16</td>\n",
       "      <td>1495272018</td>\n",
       "      <td>1522565352</td>\n",
       "    </tr>\n",
       "    <tr>\n",
       "      <th>3</th>\n",
       "      <td>c8220</td>\n",
       "      <td>27872</td>\n",
       "      <td>16</td>\n",
       "      <td>1495457110</td>\n",
       "      <td>1522630140</td>\n",
       "    </tr>\n",
       "    <tr>\n",
       "      <th>4</th>\n",
       "      <td>m400</td>\n",
       "      <td>28528</td>\n",
       "      <td>8</td>\n",
       "      <td>1495271912</td>\n",
       "      <td>1522627922</td>\n",
       "    </tr>\n",
       "    <tr>\n",
       "      <th>5</th>\n",
       "      <td>m510</td>\n",
       "      <td>16048</td>\n",
       "      <td>8</td>\n",
       "      <td>1495476412</td>\n",
       "      <td>1522627939</td>\n",
       "    </tr>\n",
       "  </tbody>\n",
       "</table>\n",
       "</div>"
      ],
      "text/plain": [
       "  hw_type  total_measurements  configurations  start_timestamp  end_timestamp\n",
       "0  c220g1               19000              24       1495272056     1522621977\n",
       "1  c220g2               36560              24       1495272065     1522622172\n",
       "2   c6320               11856              16       1495272018     1522565352\n",
       "3   c8220               27872              16       1495457110     1522630140\n",
       "4    m400               28528               8       1495271912     1522627922\n",
       "5    m510               16048               8       1495476412     1522627939"
      ]
     },
     "execution_count": 25,
     "metadata": {},
     "output_type": "execute_result"
    }
   ],
   "source": [
    "cpd[\"disk\"][\"meta\"]"
   ]
  },
  {
   "cell_type": "code",
   "execution_count": 26,
   "metadata": {},
   "outputs": [
    {
     "data": {
      "text/html": [
       "<div>\n",
       "<style scoped>\n",
       "    .dataframe tbody tr th:only-of-type {\n",
       "        vertical-align: middle;\n",
       "    }\n",
       "\n",
       "    .dataframe tbody tr th {\n",
       "        vertical-align: top;\n",
       "    }\n",
       "\n",
       "    .dataframe thead th {\n",
       "        text-align: right;\n",
       "    }\n",
       "</style>\n",
       "<table border=\"1\" class=\"dataframe\">\n",
       "  <thead>\n",
       "    <tr style=\"text-align: right;\">\n",
       "      <th></th>\n",
       "      <th>Disk: CP #</th>\n",
       "      <th>Disk: Conf #</th>\n",
       "      <th>Disk: Per Conf</th>\n",
       "    </tr>\n",
       "  </thead>\n",
       "  <tbody>\n",
       "    <tr>\n",
       "      <th>0.7</th>\n",
       "      <td>25.0</td>\n",
       "      <td>96.0</td>\n",
       "      <td>0.260417</td>\n",
       "    </tr>\n",
       "  </tbody>\n",
       "</table>\n",
       "</div>"
      ],
      "text/plain": [
       "     Disk: CP #  Disk: Conf #  Disk: Per Conf\n",
       "0.7        25.0          96.0        0.260417"
      ]
     },
     "metadata": {},
     "output_type": "display_data"
    }
   ],
   "source": [
    "count_df = pd.DataFrame(columns=[ \"Disk: CP #\", \n",
    "                                 \"Disk: Conf #\", \n",
    "                                 \"Disk: Per Conf\"])\n",
    "for lthreshold in cpd[\"disk\"][\"indiv\"][\"lthreshold\"].sort_values().unique():\n",
    "\n",
    "  disk_cpd_c = len(cpd[\"disk\"][\"indiv\"][(cpd[\"disk\"][\"indiv\"][\"lthreshold\"] == lthreshold)])\n",
    "\n",
    "  disk_conf_c = cpd[\"disk\"][\"meta\"].configurations.sum() * 1.0\n",
    "\n",
    "  disk_r = disk_cpd_c/disk_conf_c\n",
    "\n",
    "  count_df.loc[lthreshold] = (disk_cpd_c, \n",
    "                              disk_conf_c,\n",
    "                              disk_r)\n",
    "\n",
    "\n",
    "display(count_df)"
   ]
  },
  {
   "cell_type": "code",
   "execution_count": 27,
   "metadata": {},
   "outputs": [
    {
     "name": "stdout",
     "output_type": "stream",
     "text": [
      "This is how many changepoints we have found for different values of lthreshold:\n"
     ]
    },
    {
     "data": {
      "text/html": [
       "<div>\n",
       "<style scoped>\n",
       "    .dataframe tbody tr th:only-of-type {\n",
       "        vertical-align: middle;\n",
       "    }\n",
       "\n",
       "    .dataframe tbody tr th {\n",
       "        vertical-align: top;\n",
       "    }\n",
       "\n",
       "    .dataframe thead th {\n",
       "        text-align: right;\n",
       "    }\n",
       "</style>\n",
       "<table border=\"1\" class=\"dataframe\">\n",
       "  <thead>\n",
       "    <tr style=\"text-align: right;\">\n",
       "      <th></th>\n",
       "      <th>Disk: CP #</th>\n",
       "      <th>Total #</th>\n",
       "    </tr>\n",
       "  </thead>\n",
       "  <tbody>\n",
       "    <tr>\n",
       "      <th>0.7</th>\n",
       "      <td>25.0</td>\n",
       "      <td>25.0</td>\n",
       "    </tr>\n",
       "  </tbody>\n",
       "</table>\n",
       "</div>"
      ],
      "text/plain": [
       "     Disk: CP #  Total #\n",
       "0.7        25.0     25.0"
      ]
     },
     "metadata": {},
     "output_type": "display_data"
    }
   ],
   "source": [
    "counts = count_df[[\"Disk: CP #\"]].copy()\n",
    "counts[\"Total #\"] = counts.sum(axis=1)\n",
    "\n",
    "print(\"This is how many changepoints we have found for different values of lthreshold:\")\n",
    "display(counts)"
   ]
  },
  {
   "cell_type": "code",
   "execution_count": null,
   "metadata": {},
   "outputs": [],
   "source": []
  }
 ],
 "metadata": {
  "kernelspec": {
   "display_name": "Python 3",
   "language": "python",
   "name": "python3"
  },
  "language_info": {
   "codemirror_mode": {
    "name": "ipython",
    "version": 3
   },
   "file_extension": ".py",
   "mimetype": "text/x-python",
   "name": "python",
   "nbconvert_exporter": "python",
   "pygments_lexer": "ipython3",
   "version": "3.7.0"
  }
 },
 "nbformat": 4,
 "nbformat_minor": 2
}
